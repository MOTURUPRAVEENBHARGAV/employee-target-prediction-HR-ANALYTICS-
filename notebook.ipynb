{
 "cells": [
  {
   "cell_type": "code",
   "execution_count": 1,
   "metadata": {},
   "outputs": [
    {
     "name": "stdout",
     "output_type": "stream",
     "text": [
      "All libraries were installed!!\n"
     ]
    }
   ],
   "source": [
    "import pandas as pd\n",
    "import numpy as np\n",
    "import warnings\n",
    "import seaborn as sns\n",
    "import matplotlib.pyplot as plt\n",
    "from sklearn.preprocessing import StandardScaler\n",
    "warnings.filterwarnings(\"ignore\")\n",
    "from joblib import dump, load\n",
    "\n",
    "print(\"All libraries were installed!!\")"
   ]
  },
  {
   "cell_type": "code",
   "execution_count": 7,
   "metadata": {},
   "outputs": [
    {
     "data": {
      "text/html": [
       "<div>\n",
       "<style scoped>\n",
       "    .dataframe tbody tr th:only-of-type {\n",
       "        vertical-align: middle;\n",
       "    }\n",
       "\n",
       "    .dataframe tbody tr th {\n",
       "        vertical-align: top;\n",
       "    }\n",
       "\n",
       "    .dataframe thead th {\n",
       "        text-align: right;\n",
       "    }\n",
       "</style>\n",
       "<table border=\"1\" class=\"dataframe\">\n",
       "  <thead>\n",
       "    <tr style=\"text-align: right;\">\n",
       "      <th></th>\n",
       "      <th>Target_Days</th>\n",
       "      <th>Actual_Days</th>\n",
       "      <th>Remaining_Days</th>\n",
       "      <th>Actual_Work</th>\n",
       "      <th>Remaining_Work</th>\n",
       "      <th>Extrapolation</th>\n",
       "      <th>Status</th>\n",
       "      <th>Label</th>\n",
       "    </tr>\n",
       "  </thead>\n",
       "  <tbody>\n",
       "    <tr>\n",
       "      <th>0</th>\n",
       "      <td>70</td>\n",
       "      <td>58</td>\n",
       "      <td>12</td>\n",
       "      <td>0.12</td>\n",
       "      <td>0.88</td>\n",
       "      <td>0.17</td>\n",
       "      <td>incomplete</td>\n",
       "      <td>0</td>\n",
       "    </tr>\n",
       "    <tr>\n",
       "      <th>1</th>\n",
       "      <td>67</td>\n",
       "      <td>33</td>\n",
       "      <td>34</td>\n",
       "      <td>0.19</td>\n",
       "      <td>0.81</td>\n",
       "      <td>0.51</td>\n",
       "      <td>incomplete</td>\n",
       "      <td>0</td>\n",
       "    </tr>\n",
       "    <tr>\n",
       "      <th>2</th>\n",
       "      <td>56</td>\n",
       "      <td>56</td>\n",
       "      <td>0</td>\n",
       "      <td>0.17</td>\n",
       "      <td>0.83</td>\n",
       "      <td>0.00</td>\n",
       "      <td>incomplete</td>\n",
       "      <td>0</td>\n",
       "    </tr>\n",
       "    <tr>\n",
       "      <th>3</th>\n",
       "      <td>22</td>\n",
       "      <td>1</td>\n",
       "      <td>21</td>\n",
       "      <td>0.45</td>\n",
       "      <td>0.55</td>\n",
       "      <td>0.95</td>\n",
       "      <td>complete</td>\n",
       "      <td>1</td>\n",
       "    </tr>\n",
       "    <tr>\n",
       "      <th>4</th>\n",
       "      <td>30</td>\n",
       "      <td>24</td>\n",
       "      <td>6</td>\n",
       "      <td>0.70</td>\n",
       "      <td>0.30</td>\n",
       "      <td>0.20</td>\n",
       "      <td>incomplete</td>\n",
       "      <td>0</td>\n",
       "    </tr>\n",
       "  </tbody>\n",
       "</table>\n",
       "</div>"
      ],
      "text/plain": [
       "   Target_Days  Actual_Days  Remaining_Days  Actual_Work  Remaining_Work  \\\n",
       "0           70           58              12         0.12            0.88   \n",
       "1           67           33              34         0.19            0.81   \n",
       "2           56           56               0         0.17            0.83   \n",
       "3           22            1              21         0.45            0.55   \n",
       "4           30           24               6         0.70            0.30   \n",
       "\n",
       "   Extrapolation       Status  Label  \n",
       "0            0.17  incomplete      0  \n",
       "1            0.51  incomplete      0  \n",
       "2            0.00  incomplete      0  \n",
       "3            0.95    complete      1  \n",
       "4            0.20  incomplete      0  "
      ]
     },
     "execution_count": 7,
     "metadata": {},
     "output_type": "execute_result"
    }
   ],
   "source": [
    "df= pd.read_excel(\"./Dataset/performance.xlsx\")\n",
    "df.head()"
   ]
  },
  {
   "cell_type": "code",
   "execution_count": 8,
   "metadata": {},
   "outputs": [],
   "source": [
    "#Selecting the columns\n",
    "\n",
    "df=df.iloc[:,[0,1,2,3,4,7]]"
   ]
  },
  {
   "cell_type": "code",
   "execution_count": 52,
   "metadata": {},
   "outputs": [
    {
     "name": "stdout",
     "output_type": "stream",
     "text": [
      "Shape of the data 2227 rows, 6 columns\n"
     ]
    }
   ],
   "source": [
    "print(f\"Shape of the data {df.shape[0]} rows, {df.shape[1]} columns\")"
   ]
  },
  {
   "cell_type": "code",
   "execution_count": 26,
   "metadata": {},
   "outputs": [
    {
     "data": {
      "text/html": [
       "<div>\n",
       "<style scoped>\n",
       "    .dataframe tbody tr th:only-of-type {\n",
       "        vertical-align: middle;\n",
       "    }\n",
       "\n",
       "    .dataframe tbody tr th {\n",
       "        vertical-align: top;\n",
       "    }\n",
       "\n",
       "    .dataframe thead th {\n",
       "        text-align: right;\n",
       "    }\n",
       "</style>\n",
       "<table border=\"1\" class=\"dataframe\">\n",
       "  <thead>\n",
       "    <tr style=\"text-align: right;\">\n",
       "      <th></th>\n",
       "      <th>Target_Days</th>\n",
       "      <th>Actual_Days</th>\n",
       "      <th>Remaining_Days</th>\n",
       "      <th>Actual_Work</th>\n",
       "      <th>Remaining_Work</th>\n",
       "      <th>Label</th>\n",
       "    </tr>\n",
       "  </thead>\n",
       "  <tbody>\n",
       "    <tr>\n",
       "      <th>0</th>\n",
       "      <td>59</td>\n",
       "      <td>20</td>\n",
       "      <td>39</td>\n",
       "      <td>0.87</td>\n",
       "      <td>0.13</td>\n",
       "      <td>1</td>\n",
       "    </tr>\n",
       "    <tr>\n",
       "      <th>1</th>\n",
       "      <td>59</td>\n",
       "      <td>54</td>\n",
       "      <td>5</td>\n",
       "      <td>0.34</td>\n",
       "      <td>0.66</td>\n",
       "      <td>0</td>\n",
       "    </tr>\n",
       "    <tr>\n",
       "      <th>2</th>\n",
       "      <td>15</td>\n",
       "      <td>2</td>\n",
       "      <td>13</td>\n",
       "      <td>0.35</td>\n",
       "      <td>0.65</td>\n",
       "      <td>1</td>\n",
       "    </tr>\n",
       "    <tr>\n",
       "      <th>3</th>\n",
       "      <td>98</td>\n",
       "      <td>33</td>\n",
       "      <td>65</td>\n",
       "      <td>0.55</td>\n",
       "      <td>0.45</td>\n",
       "      <td>1</td>\n",
       "    </tr>\n",
       "    <tr>\n",
       "      <th>4</th>\n",
       "      <td>100</td>\n",
       "      <td>55</td>\n",
       "      <td>45</td>\n",
       "      <td>0.31</td>\n",
       "      <td>0.69</td>\n",
       "      <td>0</td>\n",
       "    </tr>\n",
       "  </tbody>\n",
       "</table>\n",
       "</div>"
      ],
      "text/plain": [
       "   Target_Days  Actual_Days  Remaining_Days  Actual_Work  Remaining_Work  \\\n",
       "0           59           20              39         0.87            0.13   \n",
       "1           59           54               5         0.34            0.66   \n",
       "2           15            2              13         0.35            0.65   \n",
       "3           98           33              65         0.55            0.45   \n",
       "4          100           55              45         0.31            0.69   \n",
       "\n",
       "   Label  \n",
       "0      1  \n",
       "1      0  \n",
       "2      1  \n",
       "3      1  \n",
       "4      0  "
      ]
     },
     "execution_count": 26,
     "metadata": {},
     "output_type": "execute_result"
    }
   ],
   "source": [
    "df.head()"
   ]
  },
  {
   "cell_type": "code",
   "execution_count": 30,
   "metadata": {},
   "outputs": [
    {
     "data": {
      "text/plain": [
       "complete      1131\n",
       "incomplete    1096\n",
       "Name: Label, dtype: int64"
      ]
     },
     "execution_count": 30,
     "metadata": {},
     "output_type": "execute_result"
    }
   ],
   "source": [
    "df.Label.value_counts().rename({1:\"complete\",0:\"incomplete\"})"
   ]
  },
  {
   "cell_type": "code",
   "execution_count": 32,
   "metadata": {},
   "outputs": [
    {
     "data": {
      "text/html": [
       "<div>\n",
       "<style scoped>\n",
       "    .dataframe tbody tr th:only-of-type {\n",
       "        vertical-align: middle;\n",
       "    }\n",
       "\n",
       "    .dataframe tbody tr th {\n",
       "        vertical-align: top;\n",
       "    }\n",
       "\n",
       "    .dataframe thead th {\n",
       "        text-align: right;\n",
       "    }\n",
       "</style>\n",
       "<table border=\"1\" class=\"dataframe\">\n",
       "  <thead>\n",
       "    <tr style=\"text-align: right;\">\n",
       "      <th></th>\n",
       "      <th>count</th>\n",
       "      <th>mean</th>\n",
       "      <th>std</th>\n",
       "      <th>min</th>\n",
       "      <th>25%</th>\n",
       "      <th>50%</th>\n",
       "      <th>75%</th>\n",
       "      <th>max</th>\n",
       "    </tr>\n",
       "  </thead>\n",
       "  <tbody>\n",
       "    <tr>\n",
       "      <th>Target_Days</th>\n",
       "      <td>2227.0</td>\n",
       "      <td>54.876066</td>\n",
       "      <td>26.558567</td>\n",
       "      <td>10.0</td>\n",
       "      <td>32.000</td>\n",
       "      <td>55.00</td>\n",
       "      <td>78.000</td>\n",
       "      <td>100.0</td>\n",
       "    </tr>\n",
       "    <tr>\n",
       "      <th>Actual_Days</th>\n",
       "      <td>2227.0</td>\n",
       "      <td>26.793444</td>\n",
       "      <td>21.770396</td>\n",
       "      <td>0.0</td>\n",
       "      <td>10.000</td>\n",
       "      <td>21.00</td>\n",
       "      <td>40.000</td>\n",
       "      <td>100.0</td>\n",
       "    </tr>\n",
       "    <tr>\n",
       "      <th>Remaining_Days</th>\n",
       "      <td>2227.0</td>\n",
       "      <td>28.082622</td>\n",
       "      <td>22.893017</td>\n",
       "      <td>0.0</td>\n",
       "      <td>9.000</td>\n",
       "      <td>22.00</td>\n",
       "      <td>42.000</td>\n",
       "      <td>97.0</td>\n",
       "    </tr>\n",
       "    <tr>\n",
       "      <th>Actual_Work</th>\n",
       "      <td>2227.0</td>\n",
       "      <td>0.504356</td>\n",
       "      <td>0.285349</td>\n",
       "      <td>0.0</td>\n",
       "      <td>0.270</td>\n",
       "      <td>0.51</td>\n",
       "      <td>0.745</td>\n",
       "      <td>1.0</td>\n",
       "    </tr>\n",
       "    <tr>\n",
       "      <th>Remaining_Work</th>\n",
       "      <td>2227.0</td>\n",
       "      <td>0.495644</td>\n",
       "      <td>0.285349</td>\n",
       "      <td>0.0</td>\n",
       "      <td>0.255</td>\n",
       "      <td>0.49</td>\n",
       "      <td>0.730</td>\n",
       "      <td>1.0</td>\n",
       "    </tr>\n",
       "    <tr>\n",
       "      <th>Label</th>\n",
       "      <td>2227.0</td>\n",
       "      <td>0.507858</td>\n",
       "      <td>0.500051</td>\n",
       "      <td>0.0</td>\n",
       "      <td>0.000</td>\n",
       "      <td>1.00</td>\n",
       "      <td>1.000</td>\n",
       "      <td>1.0</td>\n",
       "    </tr>\n",
       "  </tbody>\n",
       "</table>\n",
       "</div>"
      ],
      "text/plain": [
       "                 count       mean        std   min     25%    50%     75%  \\\n",
       "Target_Days     2227.0  54.876066  26.558567  10.0  32.000  55.00  78.000   \n",
       "Actual_Days     2227.0  26.793444  21.770396   0.0  10.000  21.00  40.000   \n",
       "Remaining_Days  2227.0  28.082622  22.893017   0.0   9.000  22.00  42.000   \n",
       "Actual_Work     2227.0   0.504356   0.285349   0.0   0.270   0.51   0.745   \n",
       "Remaining_Work  2227.0   0.495644   0.285349   0.0   0.255   0.49   0.730   \n",
       "Label           2227.0   0.507858   0.500051   0.0   0.000   1.00   1.000   \n",
       "\n",
       "                  max  \n",
       "Target_Days     100.0  \n",
       "Actual_Days     100.0  \n",
       "Remaining_Days   97.0  \n",
       "Actual_Work       1.0  \n",
       "Remaining_Work    1.0  \n",
       "Label             1.0  "
      ]
     },
     "execution_count": 32,
     "metadata": {},
     "output_type": "execute_result"
    }
   ],
   "source": [
    "df.describe().T"
   ]
  },
  {
   "cell_type": "code",
   "execution_count": 37,
   "metadata": {},
   "outputs": [
    {
     "data": {
      "image/png": "[encoded data removed]",
      "text/plain": [
       "<Figure size 400x300 with 1 Axes>"
      ]
     },
     "metadata": {},
     "output_type": "display_data"
    }
   ],
   "source": [
    "plt.figure(figsize=(4,3))\n",
    "sns.countplot(x=\"Label\", data=df, width=0.6,palette=\"summer_r\")\n",
    "plt.xlabel(\"Label\")\n",
    "# plt.xticks(ticks=[\"Incomplete\",\"Complete\"])\n",
    "plt.show()"
   ]
  },
  {
   "cell_type": "code",
   "execution_count": 38,
   "metadata": {},
   "outputs": [],
   "source": [
    "#Splitting the data\n",
    "X=df.drop([\"Label\"],axis=1)\n",
    "y=df[\"Label\"]"
   ]
  },
  {
   "cell_type": "code",
   "execution_count": 39,
   "metadata": {},
   "outputs": [],
   "source": [
    "s=StandardScaler()\n",
    "X_std=s.fit_transform(X)"
   ]
  },
  {
   "cell_type": "code",
   "execution_count": 41,
   "metadata": {},
   "outputs": [
    {
     "data": {
      "text/plain": [
       "array([[ 0.15531183, -0.31211972,  0.47699392,  1.28168058, -1.28168058],\n",
       "       [ 0.15531183,  1.24998492, -1.00850871, -0.57611014,  0.57611014],\n",
       "       [-1.50177612, -1.1391163 , -0.65897868, -0.54105749,  0.54105749],\n",
       "       ...,\n",
       "       [ 0.72022818,  0.60676536,  0.25853765, -0.71632076,  0.71632076],\n",
       "       [ 1.28514453,  0.00949006,  1.48189275, -1.73284776,  1.73284776],\n",
       "       [-1.65242048, -0.95533928, -1.00850871, -1.66274245,  1.66274245]])"
      ]
     },
     "execution_count": 41,
     "metadata": {},
     "output_type": "execute_result"
    }
   ],
   "source": [
    "X_std"
   ]
  },
  {
   "cell_type": "code",
   "execution_count": 43,
   "metadata": {},
   "outputs": [
    {
     "name": "stdout",
     "output_type": "stream",
     "text": [
      "['Target_Days', 'Actual_Days', 'Remaining_Days', 'Actual_Work', 'Remaining_Work', 'Label']\n"
     ]
    }
   ],
   "source": [
    "print(list(df.columns))"
   ]
  },
  {
   "cell_type": "code",
   "execution_count": 45,
   "metadata": {},
   "outputs": [
    {
     "data": {
      "text/html": [
       "<div>\n",
       "<style scoped>\n",
       "    .dataframe tbody tr th:only-of-type {\n",
       "        vertical-align: middle;\n",
       "    }\n",
       "\n",
       "    .dataframe tbody tr th {\n",
       "        vertical-align: top;\n",
       "    }\n",
       "\n",
       "    .dataframe thead th {\n",
       "        text-align: right;\n",
       "    }\n",
       "</style>\n",
       "<table border=\"1\" class=\"dataframe\">\n",
       "  <thead>\n",
       "    <tr style=\"text-align: right;\">\n",
       "      <th></th>\n",
       "      <th>Target_Days</th>\n",
       "      <th>Actual_Days</th>\n",
       "      <th>Remaining_Days</th>\n",
       "      <th>Actual_Work</th>\n",
       "      <th>Remaining_Work</th>\n",
       "      <th>Label</th>\n",
       "    </tr>\n",
       "  </thead>\n",
       "  <tbody>\n",
       "    <tr>\n",
       "      <th>0</th>\n",
       "      <td>0.155312</td>\n",
       "      <td>-0.312120</td>\n",
       "      <td>0.476994</td>\n",
       "      <td>1.281681</td>\n",
       "      <td>-1.281681</td>\n",
       "      <td>1</td>\n",
       "    </tr>\n",
       "    <tr>\n",
       "      <th>1</th>\n",
       "      <td>0.155312</td>\n",
       "      <td>1.249985</td>\n",
       "      <td>-1.008509</td>\n",
       "      <td>-0.576110</td>\n",
       "      <td>0.576110</td>\n",
       "      <td>0</td>\n",
       "    </tr>\n",
       "    <tr>\n",
       "      <th>2</th>\n",
       "      <td>-1.501776</td>\n",
       "      <td>-1.139116</td>\n",
       "      <td>-0.658979</td>\n",
       "      <td>-0.541057</td>\n",
       "      <td>0.541057</td>\n",
       "      <td>1</td>\n",
       "    </tr>\n",
       "    <tr>\n",
       "      <th>3</th>\n",
       "      <td>1.624094</td>\n",
       "      <td>0.285156</td>\n",
       "      <td>1.612967</td>\n",
       "      <td>0.159996</td>\n",
       "      <td>-0.159996</td>\n",
       "      <td>1</td>\n",
       "    </tr>\n",
       "    <tr>\n",
       "      <th>4</th>\n",
       "      <td>1.699417</td>\n",
       "      <td>1.295929</td>\n",
       "      <td>0.739141</td>\n",
       "      <td>-0.681268</td>\n",
       "      <td>0.681268</td>\n",
       "      <td>0</td>\n",
       "    </tr>\n",
       "  </tbody>\n",
       "</table>\n",
       "</div>"
      ],
      "text/plain": [
       "   Target_Days  Actual_Days  Remaining_Days  Actual_Work  Remaining_Work  \\\n",
       "0     0.155312    -0.312120        0.476994     1.281681       -1.281681   \n",
       "1     0.155312     1.249985       -1.008509    -0.576110        0.576110   \n",
       "2    -1.501776    -1.139116       -0.658979    -0.541057        0.541057   \n",
       "3     1.624094     0.285156        1.612967     0.159996       -0.159996   \n",
       "4     1.699417     1.295929        0.739141    -0.681268        0.681268   \n",
       "\n",
       "   Label  \n",
       "0      1  \n",
       "1      0  \n",
       "2      1  \n",
       "3      1  \n",
       "4      0  "
      ]
     },
     "execution_count": 45,
     "metadata": {},
     "output_type": "execute_result"
    }
   ],
   "source": [
    "cols = ['Target_Days', 'Actual_Days', 'Remaining_Days', 'Actual_Work', 'Remaining_Work']\n",
    "X_std = pd.DataFrame(X_std,columns=cols)\n",
    "y= pd.DataFrame(y)\n",
    "\n",
    "final_data= pd.concat([X_std,y],join=\"outer\",axis=1)\n",
    "final_data.head()"
   ]
  },
  {
   "cell_type": "code",
   "execution_count": 46,
   "metadata": {},
   "outputs": [
    {
     "data": {
      "text/plain": [
       "['model_scaler.pkl']"
      ]
     },
     "execution_count": 46,
     "metadata": {},
     "output_type": "execute_result"
    }
   ],
   "source": [
    "from joblib import dump, load\n",
    "dump(s, 'model_scaler.pkl')"
   ]
  },
  {
   "cell_type": "code",
   "execution_count": 47,
   "metadata": {},
   "outputs": [],
   "source": [
    "final_data.to_excel(\"./Dataset/Scaled_Attrition_dataset.xlsx\",index=False)"
   ]
  },
  {
   "attachments": {},
   "cell_type": "markdown",
   "metadata": {},
   "source": [
    "Reloading the Data"
   ]
  },
  {
   "cell_type": "code",
   "execution_count": 48,
   "metadata": {},
   "outputs": [],
   "source": [
    "df = pd.read_excel(\"./Dataset/Scaled_Attrition_dataset.xlsx\")\n"
   ]
  },
  {
   "attachments": {},
   "cell_type": "markdown",
   "metadata": {},
   "source": [
    "Model Building"
   ]
  },
  {
   "cell_type": "code",
   "execution_count": 49,
   "metadata": {},
   "outputs": [
    {
     "data": {
      "text/html": [
       "<div>\n",
       "<style scoped>\n",
       "    .dataframe tbody tr th:only-of-type {\n",
       "        vertical-align: middle;\n",
       "    }\n",
       "\n",
       "    .dataframe tbody tr th {\n",
       "        vertical-align: top;\n",
       "    }\n",
       "\n",
       "    .dataframe thead th {\n",
       "        text-align: right;\n",
       "    }\n",
       "</style>\n",
       "<table border=\"1\" class=\"dataframe\">\n",
       "  <thead>\n",
       "    <tr style=\"text-align: right;\">\n",
       "      <th></th>\n",
       "      <th>Target_Days</th>\n",
       "      <th>Actual_Days</th>\n",
       "      <th>Remaining_Days</th>\n",
       "      <th>Actual_Work</th>\n",
       "      <th>Remaining_Work</th>\n",
       "    </tr>\n",
       "  </thead>\n",
       "  <tbody>\n",
       "    <tr>\n",
       "      <th>0</th>\n",
       "      <td>0.155312</td>\n",
       "      <td>-0.312120</td>\n",
       "      <td>0.476994</td>\n",
       "      <td>1.281681</td>\n",
       "      <td>-1.281681</td>\n",
       "    </tr>\n",
       "    <tr>\n",
       "      <th>1</th>\n",
       "      <td>0.155312</td>\n",
       "      <td>1.249985</td>\n",
       "      <td>-1.008509</td>\n",
       "      <td>-0.576110</td>\n",
       "      <td>0.576110</td>\n",
       "    </tr>\n",
       "    <tr>\n",
       "      <th>2</th>\n",
       "      <td>-1.501776</td>\n",
       "      <td>-1.139116</td>\n",
       "      <td>-0.658979</td>\n",
       "      <td>-0.541057</td>\n",
       "      <td>0.541057</td>\n",
       "    </tr>\n",
       "    <tr>\n",
       "      <th>3</th>\n",
       "      <td>1.624094</td>\n",
       "      <td>0.285156</td>\n",
       "      <td>1.612967</td>\n",
       "      <td>0.159996</td>\n",
       "      <td>-0.159996</td>\n",
       "    </tr>\n",
       "    <tr>\n",
       "      <th>4</th>\n",
       "      <td>1.699417</td>\n",
       "      <td>1.295929</td>\n",
       "      <td>0.739141</td>\n",
       "      <td>-0.681268</td>\n",
       "      <td>0.681268</td>\n",
       "    </tr>\n",
       "  </tbody>\n",
       "</table>\n",
       "</div>"
      ],
      "text/plain": [
       "   Target_Days  Actual_Days  Remaining_Days  Actual_Work  Remaining_Work\n",
       "0     0.155312    -0.312120        0.476994     1.281681       -1.281681\n",
       "1     0.155312     1.249985       -1.008509    -0.576110        0.576110\n",
       "2    -1.501776    -1.139116       -0.658979    -0.541057        0.541057\n",
       "3     1.624094     0.285156        1.612967     0.159996       -0.159996\n",
       "4     1.699417     1.295929        0.739141    -0.681268        0.681268"
      ]
     },
     "execution_count": 49,
     "metadata": {},
     "output_type": "execute_result"
    }
   ],
   "source": [
    "X=df.drop([\"Label\"],axis=1)\n",
    "y= df[\"Label\"]\n",
    "X.head()"
   ]
  },
  {
   "cell_type": "code",
   "execution_count": 50,
   "metadata": {},
   "outputs": [
    {
     "name": "stdout",
     "output_type": "stream",
     "text": [
      "(1558, 5)\n",
      "(669, 5)\n",
      "(669,)\n",
      "(1558,)\n"
     ]
    }
   ],
   "source": [
    "from random import shuffle\n",
    "from sklearn.model_selection import train_test_split\n",
    "X_train, X_test, y_train, y_test = train_test_split(X, y, test_size=0.30, random_state=1,shuffle=True)\n",
    "print(X_train.shape)\n",
    "print(X_test.shape)\n",
    "print(y_test.shape)\n",
    "print(y_train.shape)"
   ]
  },
  {
   "cell_type": "code",
   "execution_count": 2,
   "metadata": {},
   "outputs": [],
   "source": [
    "from sklearn.linear_model import LogisticRegression\n",
    "from sklearn.tree import DecisionTreeClassifier\n",
    "from sklearn.ensemble import RandomForestClassifier\n",
    "from sklearn.naive_bayes import GaussianNB\n",
    "from sklearn.model_selection import GridSearchCV\n",
    "from sklearn.neighbors import KNeighborsClassifier\n",
    "from sklearn.ensemble import BaggingClassifier\n",
    "from sklearn.ensemble import AdaBoostClassifier,GradientBoostingClassifier\n",
    "from sklearn import metrics\n",
    "from sklearn.model_selection import cross_val_score\n",
    "from sklearn.model_selection import KFold\n",
    "import warnings\n",
    "warnings.filterwarnings('ignore')"
   ]
  },
  {
   "cell_type": "code",
   "execution_count": 54,
   "metadata": {},
   "outputs": [],
   "source": [
    "lr=LogisticRegression(C=1.0, class_weight=None, dual=False, fit_intercept=True,\n",
    "                   intercept_scaling=1, l1_ratio=None, max_iter=1000,\n",
    "                   multi_class='auto', n_jobs=None, penalty='l2',\n",
    "                   random_state=4783, solver='lbfgs', tol=0.0001, verbose=0,\n",
    "                   warm_start=False)\n",
    "\n",
    "dt=DecisionTreeClassifier(random_state=0)\n",
    "knn=KNeighborsClassifier()"
   ]
  },
  {
   "cell_type": "code",
   "execution_count": 55,
   "metadata": {},
   "outputs": [
    {
     "name": "stdout",
     "output_type": "stream",
     "text": [
      "0.9088575096277278\n",
      "0.8849028400597907\n"
     ]
    }
   ],
   "source": [
    "lr.fit(X_train,y_train)\n",
    "print(lr.score(X_train,y_train))\n",
    "print(lr.score(X_test,y_test))"
   ]
  },
  {
   "cell_type": "code",
   "execution_count": 56,
   "metadata": {},
   "outputs": [
    {
     "data": {
      "text/html": [
       "<style>#sk-container-id-1 {color: black;background-color: white;}#sk-container-id-1 pre{padding: 0;}#sk-container-id-1 div.sk-toggleable {background-color: white;}#sk-container-id-1 label.sk-toggleable__label {cursor: pointer;display: block;width: 100%;margin-bottom: 0;padding: 0.3em;box-sizing: border-box;text-align: center;}#sk-container-id-1 label.sk-toggleable__label-arrow:before {content: \"▸\";float: left;margin-right: 0.25em;color: #696969;}#sk-container-id-1 label.sk-toggleable__label-arrow:hover:before {color: black;}#sk-container-id-1 div.sk-estimator:hover label.sk-toggleable__label-arrow:before {color: black;}#sk-container-id-1 div.sk-toggleable__content {max-height: 0;max-width: 0;overflow: hidden;text-align: left;background-color: #f0f8ff;}#sk-container-id-1 div.sk-toggleable__content pre {margin: 0.2em;color: black;border-radius: 0.25em;background-color: #f0f8ff;}#sk-container-id-1 input.sk-toggleable__control:checked~div.sk-toggleable__content {max-height: 200px;max-width: 100%;overflow: auto;}#sk-container-id-1 input.sk-toggleable__control:checked~label.sk-toggleable__label-arrow:before {content: \"▾\";}#sk-container-id-1 div.sk-estimator input.sk-toggleable__control:checked~label.sk-toggleable__label {background-color: #d4ebff;}#sk-container-id-1 div.sk-label input.sk-toggleable__control:checked~label.sk-toggleable__label {background-color: #d4ebff;}#sk-container-id-1 input.sk-hidden--visually {border: 0;clip: rect(1px 1px 1px 1px);clip: rect(1px, 1px, 1px, 1px);height: 1px;margin: -1px;overflow: hidden;padding: 0;position: absolute;width: 1px;}#sk-container-id-1 div.sk-estimator {font-family: monospace;background-color: #f0f8ff;border: 1px dotted black;border-radius: 0.25em;box-sizing: border-box;margin-bottom: 0.5em;}#sk-container-id-1 div.sk-estimator:hover {background-color: #d4ebff;}#sk-container-id-1 div.sk-parallel-item::after {content: \"\";width: 100%;border-bottom: 1px solid gray;flex-grow: 1;}#sk-container-id-1 div.sk-label:hover label.sk-toggleable__label {background-color: #d4ebff;}#sk-container-id-1 div.sk-serial::before {content: \"\";position: absolute;border-left: 1px solid gray;box-sizing: border-box;top: 0;bottom: 0;left: 50%;z-index: 0;}#sk-container-id-1 div.sk-serial {display: flex;flex-direction: column;align-items: center;background-color: white;padding-right: 0.2em;padding-left: 0.2em;position: relative;}#sk-container-id-1 div.sk-item {position: relative;z-index: 1;}#sk-container-id-1 div.sk-parallel {display: flex;align-items: stretch;justify-content: center;background-color: white;position: relative;}#sk-container-id-1 div.sk-item::before, #sk-container-id-1 div.sk-parallel-item::before {content: \"\";position: absolute;border-left: 1px solid gray;box-sizing: border-box;top: 0;bottom: 0;left: 50%;z-index: -1;}#sk-container-id-1 div.sk-parallel-item {display: flex;flex-direction: column;z-index: 1;position: relative;background-color: white;}#sk-container-id-1 div.sk-parallel-item:first-child::after {align-self: flex-end;width: 50%;}#sk-container-id-1 div.sk-parallel-item:last-child::after {align-self: flex-start;width: 50%;}#sk-container-id-1 div.sk-parallel-item:only-child::after {width: 0;}#sk-container-id-1 div.sk-dashed-wrapped {border: 1px dashed gray;margin: 0 0.4em 0.5em 0.4em;box-sizing: border-box;padding-bottom: 0.4em;background-color: white;}#sk-container-id-1 div.sk-label label {font-family: monospace;font-weight: bold;display: inline-block;line-height: 1.2em;}#sk-container-id-1 div.sk-label-container {text-align: center;}#sk-container-id-1 div.sk-container {/* jupyter's `normalize.less` sets `[hidden] { display: none; }` but bootstrap.min.css set `[hidden] { display: none !important; }` so we also need the `!important` here to be able to override the default hidden behavior on the sphinx rendered scikit-learn.org. See: https://github.com/scikit-learn/scikit-learn/issues/21755 */display: inline-block !important;position: relative;}#sk-container-id-1 div.sk-text-repr-fallback {display: none;}</style><div id=\"sk-container-id-1\" class=\"sk-top-container\"><div class=\"sk-text-repr-fallback\"><pre>GridSearchCV(cv=3, estimator=KNeighborsClassifier(),\n",
       "             param_grid={&#x27;n_neighbors&#x27;: array([ 1,  2,  3,  4,  5,  6,  7,  8,  9, 10, 11, 12, 13, 14, 15, 16, 17,\n",
       "       18, 19, 20, 21, 22, 23, 24, 25, 26, 27, 28, 29, 30, 31, 32, 33, 34,\n",
       "       35, 36, 37, 38, 39, 40, 41, 42, 43, 44, 45, 46, 47, 48, 49]),\n",
       "                         &#x27;weights&#x27;: [&#x27;uniform&#x27;, &#x27;distance&#x27;]},\n",
       "             scoring=&#x27;roc_auc&#x27;)</pre><b>In a Jupyter environment, please rerun this cell to show the HTML representation or trust the notebook. <br />On GitHub, the HTML representation is unable to render, please try loading this page with nbviewer.org.</b></div><div class=\"sk-container\" hidden><div class=\"sk-item sk-dashed-wrapped\"><div class=\"sk-label-container\"><div class=\"sk-label sk-toggleable\"><input class=\"sk-toggleable__control sk-hidden--visually\" id=\"sk-estimator-id-1\" type=\"checkbox\" ><label for=\"sk-estimator-id-1\" class=\"sk-toggleable__label sk-toggleable__label-arrow\">GridSearchCV</label><div class=\"sk-toggleable__content\"><pre>GridSearchCV(cv=3, estimator=KNeighborsClassifier(),\n",
       "             param_grid={&#x27;n_neighbors&#x27;: array([ 1,  2,  3,  4,  5,  6,  7,  8,  9, 10, 11, 12, 13, 14, 15, 16, 17,\n",
       "       18, 19, 20, 21, 22, 23, 24, 25, 26, 27, 28, 29, 30, 31, 32, 33, 34,\n",
       "       35, 36, 37, 38, 39, 40, 41, 42, 43, 44, 45, 46, 47, 48, 49]),\n",
       "                         &#x27;weights&#x27;: [&#x27;uniform&#x27;, &#x27;distance&#x27;]},\n",
       "             scoring=&#x27;roc_auc&#x27;)</pre></div></div></div><div class=\"sk-parallel\"><div class=\"sk-parallel-item\"><div class=\"sk-item\"><div class=\"sk-label-container\"><div class=\"sk-label sk-toggleable\"><input class=\"sk-toggleable__control sk-hidden--visually\" id=\"sk-estimator-id-2\" type=\"checkbox\" ><label for=\"sk-estimator-id-2\" class=\"sk-toggleable__label sk-toggleable__label-arrow\">estimator: KNeighborsClassifier</label><div class=\"sk-toggleable__content\"><pre>KNeighborsClassifier()</pre></div></div></div><div class=\"sk-serial\"><div class=\"sk-item\"><div class=\"sk-estimator sk-toggleable\"><input class=\"sk-toggleable__control sk-hidden--visually\" id=\"sk-estimator-id-3\" type=\"checkbox\" ><label for=\"sk-estimator-id-3\" class=\"sk-toggleable__label sk-toggleable__label-arrow\">KNeighborsClassifier</label><div class=\"sk-toggleable__content\"><pre>KNeighborsClassifier()</pre></div></div></div></div></div></div></div></div></div></div>"
      ],
      "text/plain": [
       "GridSearchCV(cv=3, estimator=KNeighborsClassifier(),\n",
       "             param_grid={'n_neighbors': array([ 1,  2,  3,  4,  5,  6,  7,  8,  9, 10, 11, 12, 13, 14, 15, 16, 17,\n",
       "       18, 19, 20, 21, 22, 23, 24, 25, 26, 27, 28, 29, 30, 31, 32, 33, 34,\n",
       "       35, 36, 37, 38, 39, 40, 41, 42, 43, 44, 45, 46, 47, 48, 49]),\n",
       "                         'weights': ['uniform', 'distance']},\n",
       "             scoring='roc_auc')"
      ]
     },
     "execution_count": 56,
     "metadata": {},
     "output_type": "execute_result"
    }
   ],
   "source": [
    "#finding out the most optimal estimator\n",
    "\n",
    "param={'n_neighbors':np.arange(1,50),'weights':['uniform','distance']}\n",
    "gs=GridSearchCV(knn,param,cv=3,scoring='roc_auc')\n",
    "gs.fit(X_train,y_train)"
   ]
  },
  {
   "cell_type": "code",
   "execution_count": 57,
   "metadata": {},
   "outputs": [
    {
     "data": {
      "text/plain": [
       "{'n_neighbors': 12, 'weights': 'distance'}"
      ]
     },
     "execution_count": 57,
     "metadata": {},
     "output_type": "execute_result"
    }
   ],
   "source": [
    "gs.best_params_"
   ]
  },
  {
   "cell_type": "code",
   "execution_count": 60,
   "metadata": {},
   "outputs": [
    {
     "data": {
      "text/html": [
       "<style>#sk-container-id-2 {color: black;background-color: white;}#sk-container-id-2 pre{padding: 0;}#sk-container-id-2 div.sk-toggleable {background-color: white;}#sk-container-id-2 label.sk-toggleable__label {cursor: pointer;display: block;width: 100%;margin-bottom: 0;padding: 0.3em;box-sizing: border-box;text-align: center;}#sk-container-id-2 label.sk-toggleable__label-arrow:before {content: \"▸\";float: left;margin-right: 0.25em;color: #696969;}#sk-container-id-2 label.sk-toggleable__label-arrow:hover:before {color: black;}#sk-container-id-2 div.sk-estimator:hover label.sk-toggleable__label-arrow:before {color: black;}#sk-container-id-2 div.sk-toggleable__content {max-height: 0;max-width: 0;overflow: hidden;text-align: left;background-color: #f0f8ff;}#sk-container-id-2 div.sk-toggleable__content pre {margin: 0.2em;color: black;border-radius: 0.25em;background-color: #f0f8ff;}#sk-container-id-2 input.sk-toggleable__control:checked~div.sk-toggleable__content {max-height: 200px;max-width: 100%;overflow: auto;}#sk-container-id-2 input.sk-toggleable__control:checked~label.sk-toggleable__label-arrow:before {content: \"▾\";}#sk-container-id-2 div.sk-estimator input.sk-toggleable__control:checked~label.sk-toggleable__label {background-color: #d4ebff;}#sk-container-id-2 div.sk-label input.sk-toggleable__control:checked~label.sk-toggleable__label {background-color: #d4ebff;}#sk-container-id-2 input.sk-hidden--visually {border: 0;clip: rect(1px 1px 1px 1px);clip: rect(1px, 1px, 1px, 1px);height: 1px;margin: -1px;overflow: hidden;padding: 0;position: absolute;width: 1px;}#sk-container-id-2 div.sk-estimator {font-family: monospace;background-color: #f0f8ff;border: 1px dotted black;border-radius: 0.25em;box-sizing: border-box;margin-bottom: 0.5em;}#sk-container-id-2 div.sk-estimator:hover {background-color: #d4ebff;}#sk-container-id-2 div.sk-parallel-item::after {content: \"\";width: 100%;border-bottom: 1px solid gray;flex-grow: 1;}#sk-container-id-2 div.sk-label:hover label.sk-toggleable__label {background-color: #d4ebff;}#sk-container-id-2 div.sk-serial::before {content: \"\";position: absolute;border-left: 1px solid gray;box-sizing: border-box;top: 0;bottom: 0;left: 50%;z-index: 0;}#sk-container-id-2 div.sk-serial {display: flex;flex-direction: column;align-items: center;background-color: white;padding-right: 0.2em;padding-left: 0.2em;position: relative;}#sk-container-id-2 div.sk-item {position: relative;z-index: 1;}#sk-container-id-2 div.sk-parallel {display: flex;align-items: stretch;justify-content: center;background-color: white;position: relative;}#sk-container-id-2 div.sk-item::before, #sk-container-id-2 div.sk-parallel-item::before {content: \"\";position: absolute;border-left: 1px solid gray;box-sizing: border-box;top: 0;bottom: 0;left: 50%;z-index: -1;}#sk-container-id-2 div.sk-parallel-item {display: flex;flex-direction: column;z-index: 1;position: relative;background-color: white;}#sk-container-id-2 div.sk-parallel-item:first-child::after {align-self: flex-end;width: 50%;}#sk-container-id-2 div.sk-parallel-item:last-child::after {align-self: flex-start;width: 50%;}#sk-container-id-2 div.sk-parallel-item:only-child::after {width: 0;}#sk-container-id-2 div.sk-dashed-wrapped {border: 1px dashed gray;margin: 0 0.4em 0.5em 0.4em;box-sizing: border-box;padding-bottom: 0.4em;background-color: white;}#sk-container-id-2 div.sk-label label {font-family: monospace;font-weight: bold;display: inline-block;line-height: 1.2em;}#sk-container-id-2 div.sk-label-container {text-align: center;}#sk-container-id-2 div.sk-container {/* jupyter's `normalize.less` sets `[hidden] { display: none; }` but bootstrap.min.css set `[hidden] { display: none !important; }` so we also need the `!important` here to be able to override the default hidden behavior on the sphinx rendered scikit-learn.org. See: https://github.com/scikit-learn/scikit-learn/issues/21755 */display: inline-block !important;position: relative;}#sk-container-id-2 div.sk-text-repr-fallback {display: none;}</style><div id=\"sk-container-id-2\" class=\"sk-top-container\"><div class=\"sk-text-repr-fallback\"><pre>GridSearchCV(cv=3, estimator=DecisionTreeClassifier(random_state=0),\n",
       "             param_grid={&#x27;criterion&#x27;: [&#x27;entropy&#x27;, &#x27;gini&#x27;]}, scoring=&#x27;roc_auc&#x27;)</pre><b>In a Jupyter environment, please rerun this cell to show the HTML representation or trust the notebook. <br />On GitHub, the HTML representation is unable to render, please try loading this page with nbviewer.org.</b></div><div class=\"sk-container\" hidden><div class=\"sk-item sk-dashed-wrapped\"><div class=\"sk-label-container\"><div class=\"sk-label sk-toggleable\"><input class=\"sk-toggleable__control sk-hidden--visually\" id=\"sk-estimator-id-4\" type=\"checkbox\" ><label for=\"sk-estimator-id-4\" class=\"sk-toggleable__label sk-toggleable__label-arrow\">GridSearchCV</label><div class=\"sk-toggleable__content\"><pre>GridSearchCV(cv=3, estimator=DecisionTreeClassifier(random_state=0),\n",
       "             param_grid={&#x27;criterion&#x27;: [&#x27;entropy&#x27;, &#x27;gini&#x27;]}, scoring=&#x27;roc_auc&#x27;)</pre></div></div></div><div class=\"sk-parallel\"><div class=\"sk-parallel-item\"><div class=\"sk-item\"><div class=\"sk-label-container\"><div class=\"sk-label sk-toggleable\"><input class=\"sk-toggleable__control sk-hidden--visually\" id=\"sk-estimator-id-5\" type=\"checkbox\" ><label for=\"sk-estimator-id-5\" class=\"sk-toggleable__label sk-toggleable__label-arrow\">estimator: DecisionTreeClassifier</label><div class=\"sk-toggleable__content\"><pre>DecisionTreeClassifier(random_state=0)</pre></div></div></div><div class=\"sk-serial\"><div class=\"sk-item\"><div class=\"sk-estimator sk-toggleable\"><input class=\"sk-toggleable__control sk-hidden--visually\" id=\"sk-estimator-id-6\" type=\"checkbox\" ><label for=\"sk-estimator-id-6\" class=\"sk-toggleable__label sk-toggleable__label-arrow\">DecisionTreeClassifier</label><div class=\"sk-toggleable__content\"><pre>DecisionTreeClassifier(random_state=0)</pre></div></div></div></div></div></div></div></div></div></div>"
      ],
      "text/plain": [
       "GridSearchCV(cv=3, estimator=DecisionTreeClassifier(random_state=0),\n",
       "             param_grid={'criterion': ['entropy', 'gini']}, scoring='roc_auc')"
      ]
     },
     "execution_count": 60,
     "metadata": {},
     "output_type": "execute_result"
    }
   ],
   "source": [
    "#finding out the most optimal estimator\n",
    "params={'criterion':['entropy','gini']}\n",
    "gdt=GridSearchCV(dt,param_grid=params,cv=3,scoring='roc_auc')\n",
    "gdt.fit(X_train,y_train)"
   ]
  },
  {
   "cell_type": "code",
   "execution_count": 61,
   "metadata": {},
   "outputs": [
    {
     "name": "stdout",
     "output_type": "stream",
     "text": [
      "{'criterion': 'entropy'}\n",
      "0.9434319158466661\n"
     ]
    }
   ],
   "source": [
    "print(gdt.best_params_)\n",
    "print(gdt.best_score_)"
   ]
  },
  {
   "cell_type": "code",
   "execution_count": 89,
   "metadata": {},
   "outputs": [
    {
     "name": "stdout",
     "output_type": "stream",
     "text": [
      "                            TRAIN_Accuracy  TEST_Accuracy  PRECISION    RECALL\n",
      "Logistic Regression               0.908858       0.884903   0.884833  0.884833\n",
      "Decision Tree                     1.000000       0.940209   0.940205  0.940205\n",
      "Random Forest                     0.999358       0.952167   0.952149  0.952149\n",
      "Naive Bayes                       0.872914       0.849028   0.848977  0.848977\n",
      "KNeighborsClassifier              0.981386       0.959641   0.959617  0.959617\n",
      "Bagging Classifier                0.999358       0.956652   0.956614  0.956614\n",
      "AdaBoostClassifier                0.912067       0.877429   0.877496  0.877496\n",
      "GradientBoostingClassifier        0.995507       0.961136   0.961114  0.961114\n"
     ]
    }
   ],
   "source": [
    "lr=LogisticRegression()\n",
    "dt=DecisionTreeClassifier(criterion = \"entropy\")\n",
    "rf=RandomForestClassifier(n_estimators=15)\n",
    "nb=GaussianNB()\n",
    "knn=KNeighborsClassifier()\n",
    "bag=BaggingClassifier(n_estimators=9)\n",
    "ada=AdaBoostClassifier(n_estimators=8)\n",
    "gdb=GradientBoostingClassifier(n_estimators=70)\n",
    "model=[]\n",
    "model.append(('Logistic Regression',lr))\n",
    "model.append(('Decision Tree',dt))\n",
    "model.append(('Random Forest',rf))\n",
    "model.append(('Naive Bayes',nb))\n",
    "model.append(('KNeighborsClassifier',knn))\n",
    "model.append(('Bagging Classifier',bag))\n",
    "model.append(('AdaBoostClassifier',ada))\n",
    "model.append(('GradientBoostingClassifier',gdb))\n",
    "cols=[]\n",
    "train=[]\n",
    "test=[]\n",
    "prc=[]\n",
    "rec=[]\n",
    "results = []\n",
    "names = []\n",
    "bias=[]\n",
    "variance=[]\n",
    "scoring = 'roc_auc'\n",
    "for k,v in model:\n",
    "    v.fit(X_train,y_train)\n",
    "    y_pred=v.predict(X_test)\n",
    "    Train=v.score(X_train,y_train)\n",
    "    Test=v.score(X_test,y_test)\n",
    "    precesion=metrics.precision_score(y_test,y_pred,average='macro')\n",
    "    recall=precesion=metrics.recall_score(y_test,y_pred,average='macro')\n",
    "    cols.append(k)\n",
    "    train.append(Train)\n",
    "    test.append(Test)\n",
    "    prc.append(precesion)\n",
    "    rec.append(recall)\n",
    "    TEST=pd.DataFrame(test,columns=[\"TEST_Accuracy\"],index=cols)\n",
    "    TRAIN=pd.DataFrame(train,columns=[\"TRAIN_Accuracy\"],index=cols)\n",
    "    PRECISION=pd.DataFrame(prc,columns=[\"PRECISION\"],index=cols)\n",
    "    RECALL=pd.DataFrame(rec,columns=[\"RECALL\"],index=cols)\n",
    "\n",
    "    data=pd.concat([TRAIN,TEST,PRECISION,RECALL],axis=1)\n",
    "print(data)"
   ]
  },
  {
   "cell_type": "code",
   "execution_count": 90,
   "metadata": {},
   "outputs": [
    {
     "name": "stdout",
     "output_type": "stream",
     "text": [
      "                            Bias_Error  Varaince_Error\n",
      "Logistic Regression            0.97462        0.000491\n",
      "Decision Tree                  0.97462        0.000491\n",
      "Random Forest                  0.97462        0.000491\n",
      "Naive Bayes                    0.97462        0.000491\n",
      "KNeighborsClassifier           0.97462        0.000491\n",
      "Bagging Classifier             0.97462        0.000491\n",
      "AdaBoostClassifier             0.97462        0.000491\n",
      "GradientBoostingClassifier     0.97462        0.000491\n"
     ]
    }
   ],
   "source": [
    "for name,models in model:\n",
    "    kfold = KFold(n_splits=3, random_state=0,shuffle=True)\n",
    "    cv_results = cross_val_score(models, X, y, cv=kfold, scoring=scoring)\n",
    "    results.append(cv_results)\n",
    "    bias=np.mean(results)\n",
    "    variance=np.var(results,ddof=1)\n",
    "    names.append(name)\n",
    "    BIAS=pd.DataFrame(bias,columns=[\"Bias_Error\"],index=names)\n",
    "    VARIANCE=pd.DataFrame(variance,columns=[\"Varaince_Error\"],index=names)\n",
    "    errors_data=pd.concat([BIAS,VARIANCE],axis=1)\n",
    "\n",
    "print(errors_data)"
   ]
  },
  {
   "cell_type": "code",
   "execution_count": 91,
   "metadata": {},
   "outputs": [
    {
     "name": "stdout",
     "output_type": "stream",
     "text": [
      "Logistic Regression : 0.8849028400597907\n",
      "Decision Tree Classification : 0.9402092675635276\n",
      "Random Forest Classification : 0.9461883408071748\n",
      "Knn Classifier: 0.9611360239162929\n",
      "Naive Bayes Classifier: 0.8490284005979073\n",
      "Bagging Classifier: 0.953662182361734\n",
      "Ada BoostClassifier: 0.8774289985052317\n",
      "Gradient Classifier: 0.9611360239162929\n"
     ]
    }
   ],
   "source": [
    "from sklearn.metrics import accuracy_score,recall_score,precision_score,roc_auc_score\n",
    "classifiers=[['Logistic Regression :',LogisticRegression()],    \n",
    "       ['Decision Tree Classification :',DecisionTreeClassifier(criterion='entropy',random_state=0)],\n",
    "       ['Random Forest Classification :',RandomForestClassifier(n_estimators=15,random_state=0)],\n",
    "        ['Knn Classifier:',KNeighborsClassifier(n_neighbors= 12, weights= 'distance')],['Naive Bayes Classifier:',GaussianNB()],\n",
    "        ['Bagging Classifier:',BaggingClassifier(n_estimators=9,random_state=0)],[\"Ada BoostClassifier:\", AdaBoostClassifier(n_estimators=8)],\n",
    "        [\"Gradient Classifier:\",GradientBoostingClassifier(n_estimators=70)]\n",
    "       ]\n",
    "cla_pred=[]\n",
    "for name,model in classifiers:\n",
    "    model=model\n",
    "    model.fit(X_train,y_train)\n",
    "    predictions = model.predict(X_test)\n",
    "    cla_pred.append(accuracy_score(y_test,predictions))\n",
    "    print(name,accuracy_score(y_test,predictions))"
   ]
  },
  {
   "cell_type": "code",
   "execution_count": 92,
   "metadata": {},
   "outputs": [],
   "source": [
    "\n",
    "y_ax=['Logistic Regression' ,\n",
    "      'Decision Tree Classifier',\n",
    "      'Random Forest Classifier',\"KNearest Neighbors\",'Naive Bayes Classifier','Bagging Classifier',\"Ada BoostClassifier\",\"Gradient Classifier\"]\n",
    "x_ax=cla_pred\n"
   ]
  },
  {
   "cell_type": "code",
   "execution_count": 93,
   "metadata": {},
   "outputs": [
    {
     "data": {
      "image/png": "[encoded data removed]",
      "text/plain": [
       "<Figure size 640x480 with 1 Axes>"
      ]
     },
     "metadata": {},
     "output_type": "display_data"
    },
    {
     "data": {
      "text/plain": [
       "<Figure size 1000x800 with 0 Axes>"
      ]
     },
     "metadata": {},
     "output_type": "display_data"
    }
   ],
   "source": [
    "import seaborn as sns\n",
    "sns.barplot(x=x_ax,y=y_ax)\n",
    "plt.xlabel('Accuracy')\n",
    "plt.title('Bar Graph of all Accuracies without PCA decompostion')\n",
    "plt.figure(figsize=(10,8))\n",
    "plt.savefig(\"Bar Graph wihtout PCA\")"
   ]
  },
  {
   "cell_type": "code",
   "execution_count": 98,
   "metadata": {},
   "outputs": [
    {
     "data": {
      "image/png": "[encoded data removed]",
      "text/plain": [
       "<Figure size 1000x1100 with 16 Axes>"
      ]
     },
     "metadata": {},
     "output_type": "display_data"
    },
    {
     "data": {
      "text/plain": [
       "<Figure size 640x480 with 0 Axes>"
      ]
     },
     "metadata": {},
     "output_type": "display_data"
    }
   ],
   "source": [
    "from sklearn.model_selection import cross_val_predict\n",
    "from mlxtend.evaluate import confusion_matrix\n",
    "# plt.title(\"CONFUSION MATRIX OF ALL MODELS WITHOUT PCA\")\n",
    "f,ax=plt.subplots(4,2,figsize=(10,11))\n",
    "y_pred = cross_val_predict(LogisticRegression(C=1.0, class_weight=None, dual=False, fit_intercept=True,\n",
    "                   intercept_scaling=1, l1_ratio=None, max_iter=1000,\n",
    "                   multi_class='auto', n_jobs=None, penalty='l2',\n",
    "                   random_state=4783, solver='lbfgs', tol=0.0001, verbose=0,\n",
    "                   warm_start=False),X,y,cv=10)\n",
    "sns.heatmap(confusion_matrix(y,y_pred,binary=True),ax=ax[0,0],annot=True,fmt='2.0f')\n",
    "ax[0,0].set_title('Matrix for Logistic Regression')\n",
    "\n",
    "y_pred_dt_gini_train = cross_val_predict(DecisionTreeClassifier(criterion='entropy',random_state=0),X, y,cv=10)\n",
    "sns.heatmap(confusion_matrix(y,y_pred_dt_gini_train,binary=True),ax=ax[0,1],annot=True,fmt='2.0f')\n",
    "ax[0,1].set_title('Matrix for Decision Tree gini')\n",
    "\n",
    "y_pred = cross_val_predict(GaussianNB(),X, y,cv=10)\n",
    "sns.heatmap(confusion_matrix(y,y_pred,binary=True),ax=ax[1,0],annot=True,fmt='2.0f')\n",
    "ax[1,0].set_title('Matrix for Naive Bayes')\n",
    "\n",
    "y_pred = cross_val_predict(RandomForestClassifier(n_estimators=12,random_state=0),X, y,cv=10)\n",
    "sns.heatmap(confusion_matrix(y,y_pred,binary=True),ax=ax[1,1],annot=True,fmt='2.0f')\n",
    "ax[1,1].set_title('Matrix for Random-Forests')\n",
    "\n",
    "\n",
    "y_pred = cross_val_predict(KNeighborsClassifier(n_neighbors= 12, weights= 'distance'),X, y,cv=10)\n",
    "sns.heatmap(confusion_matrix(y,y_pred,binary=True),ax=ax[2,0],annot=True,fmt='2.0f')\n",
    "ax[2,0].set_title('Matrix for KNearest Neighbors')\n",
    "\n",
    "\n",
    "y_pred = cross_val_predict(BaggingClassifier(n_estimators=9,random_state=0),X,y,cv=10)\n",
    "sns.heatmap(confusion_matrix(y,y_pred,binary=True),ax=ax[2,1],annot=True,fmt='2.0f')\n",
    "ax[2,1].set_title(\"Matrix for Bagging Classifier\")\n",
    "\n",
    "y_pred = cross_val_predict(AdaBoostClassifier(n_estimators=8),X, y,cv=10)\n",
    "sns.heatmap(confusion_matrix(y,y_pred,binary=True),ax=ax[3,0],annot=True,fmt='2.0f')\n",
    "ax[3,0].set_title('Matrix for Adaboosting Classifier')\n",
    "\n",
    "y_pred = cross_val_predict(GradientBoostingClassifier(n_estimators=70),X, y,cv=10)\n",
    "sns.heatmap(confusion_matrix(y,y_pred,binary=True),ax=ax[3,1],annot=True,fmt='2.0f')\n",
    "ax[3,1].set_title('Matrix for Gradientboosting Classifier')\n",
    "\n",
    "plt.subplots_adjust(hspace=0.2,wspace=0.2)\n",
    "plt.tight_layout()\n",
    "plt.show()\n",
    "plt.savefig('Confusion_matrix_of all Models.jpg')\n"
   ]
  },
  {
   "attachments": {},
   "cell_type": "markdown",
   "metadata": {},
   "source": [
    "Tuning the models"
   ]
  },
  {
   "cell_type": "code",
   "execution_count": 69,
   "metadata": {},
   "outputs": [],
   "source": [
    "#Random Forest\n",
    "\n",
    "rf_var=[]\n",
    "for val in np.arange(1,50):\n",
    "    rf=RandomForestClassifier(criterion='entropy',n_estimators=val,random_state=0)\n",
    "    kfold = KFold(shuffle=True,n_splits=3, random_state=0)\n",
    "    cv_results = cross_val_score(rf, X, y, cv=kfold, scoring='roc_auc')\n",
    "    rf_var.append(np.var(cv_results,ddof=1))\n",
    "    # print(val,np.var(cv_results,ddof=1))"
   ]
  },
  {
   "cell_type": "code",
   "execution_count": 70,
   "metadata": {},
   "outputs": [
    {
     "data": {
      "text/plain": [
       "[<matplotlib.lines.Line2D at 0x23e098ad100>]"
      ]
     },
     "execution_count": 70,
     "metadata": {},
     "output_type": "execute_result"
    },
    {
     "data": {
      "image/png": "[encoded data removed]",
      "text/plain": [
       "<Figure size 640x480 with 1 Axes>"
      ]
     },
     "metadata": {},
     "output_type": "display_data"
    }
   ],
   "source": [
    "x_axis=np.arange(1,50)\n",
    "plt.plot(x_axis,rf_var)"
   ]
  },
  {
   "attachments": {},
   "cell_type": "markdown",
   "metadata": {},
   "source": [
    "n_estimators for random forest taken is 15"
   ]
  },
  {
   "cell_type": "code",
   "execution_count": 71,
   "metadata": {},
   "outputs": [],
   "source": [
    "## Bagging Classifier\n",
    "bag_var=[]\n",
    "for val in np.arange(1,100):\n",
    "    bag=BaggingClassifier(n_estimators=val,random_state=0)\n",
    "    kfold = KFold(shuffle=True,n_splits=3, random_state=0)\n",
    "    cv_results = cross_val_score(bag, X, y, cv=kfold, scoring='roc_auc')\n",
    "    bag_var.append(np.var(cv_results,ddof=1))\n",
    "    # print(val,np.var(cv_results,ddof=1))"
   ]
  },
  {
   "cell_type": "code",
   "execution_count": 72,
   "metadata": {},
   "outputs": [
    {
     "data": {
      "text/plain": [
       "[<matplotlib.lines.Line2D at 0x23e0886fbe0>]"
      ]
     },
     "execution_count": 72,
     "metadata": {},
     "output_type": "execute_result"
    },
    {
     "data": {
      "image/png": "[encoded data removed]",
      "text/plain": [
       "<Figure size 640x480 with 1 Axes>"
      ]
     },
     "metadata": {},
     "output_type": "display_data"
    }
   ],
   "source": [
    "x_axis=np.arange(1,100)\n",
    "plt.plot(x_axis,bag_var)"
   ]
  },
  {
   "attachments": {},
   "cell_type": "markdown",
   "metadata": {},
   "source": [
    "N_Estimator taken is 9 for Bagging classifier"
   ]
  },
  {
   "cell_type": "code",
   "execution_count": 79,
   "metadata": {},
   "outputs": [],
   "source": [
    "#Adaboost Classifier\n",
    "ada_bias=[]\n",
    "for val in np.arange(1,100):\n",
    "    ada=AdaBoostClassifier(n_estimators=val,random_state=0)\n",
    "    kfold = KFold(shuffle=True,n_splits=3, random_state=0)\n",
    "    cv_results = cross_val_score(ada, X, y, cv=kfold, scoring='roc_auc')\n",
    "    ada_bias.append(1-np.mean(cv_results))\n",
    "    # print(val,1-np.mean(cv_results))"
   ]
  },
  {
   "cell_type": "code",
   "execution_count": 74,
   "metadata": {},
   "outputs": [
    {
     "data": {
      "text/plain": [
       "[<matplotlib.lines.Line2D at 0x23e082b5280>]"
      ]
     },
     "execution_count": 74,
     "metadata": {},
     "output_type": "execute_result"
    },
    {
     "data": {
      "image/png": "[encoded data removed]",
      "text/plain": [
       "<Figure size 640x480 with 1 Axes>"
      ]
     },
     "metadata": {},
     "output_type": "display_data"
    }
   ],
   "source": [
    "x_axis=np.arange(1,100)\n",
    "plt.plot(x_axis,ada_bias)"
   ]
  },
  {
   "attachments": {},
   "cell_type": "markdown",
   "metadata": {},
   "source": [
    "n-estimator taken for adaboost is 8"
   ]
  },
  {
   "cell_type": "code",
   "execution_count": 81,
   "metadata": {},
   "outputs": [
    {
     "name": "stdout",
     "output_type": "stream",
     "text": [
      "1 0.10368613567384288\n",
      "2 0.0702987411316659\n",
      "3 0.06152823677791874\n",
      "4 0.052292463783520926\n",
      "5 0.04318710639789192\n",
      "6 0.03584680582126276\n",
      "7 0.02982624428085623\n",
      "8 0.02721633180171157\n",
      "9 0.025531005075413837\n",
      "10 0.022339580591830388\n",
      "11 0.021537880950885935\n",
      "12 0.01953963318598939\n",
      "13 0.0183371204718753\n",
      "14 0.017278122904418436\n",
      "15 0.01654771803236843\n",
      "16 0.015434747188320497\n",
      "17 0.014235813345799264\n",
      "18 0.013826317487965256\n",
      "19 0.013004466436404738\n",
      "20 0.011918598680195736\n",
      "21 0.011321248783887072\n",
      "22 0.010887843547340181\n",
      "23 0.010587230336445264\n",
      "24 0.01006940313977367\n",
      "25 0.009283850130323956\n",
      "26 0.008634326610766574\n",
      "27 0.00851172760639407\n",
      "28 0.008164598115877109\n",
      "29 0.00802590961440508\n",
      "30 0.007750744928040398\n",
      "31 0.007842279864506363\n",
      "32 0.007467009384258483\n",
      "33 0.006861136063192941\n",
      "34 0.00684945977389495\n",
      "35 0.006454578753862794\n",
      "36 0.006377105372496472\n",
      "37 0.006338802609264005\n",
      "38 0.006177702128683182\n",
      "39 0.006005611811987666\n",
      "40 0.006093742773741417\n",
      "41 0.005759604748414193\n",
      "42 0.00575008838288904\n",
      "43 0.005786123277968236\n",
      "44 0.005648170820335641\n",
      "45 0.005586549572603627\n",
      "46 0.0055551284266233125\n",
      "47 0.005326499578637733\n",
      "48 0.005138439790252192\n",
      "49 0.0050634113446007545\n",
      "50 0.004908011733395834\n",
      "51 0.004913048273773923\n",
      "52 0.005065871701858682\n",
      "53 0.004976225720244254\n",
      "54 0.004821106160835087\n",
      "55 0.004833509997308361\n",
      "56 0.004712411611128342\n",
      "57 0.004700388675242473\n",
      "58 0.004595689450678786\n",
      "59 0.004560663663085496\n",
      "60 0.004536291355704658\n",
      "61 0.004390916869656536\n",
      "62 0.00431612572513751\n",
      "63 0.004308704482614778\n",
      "64 0.004306267109513762\n",
      "65 0.004284686384436021\n",
      "66 0.004194891598431005\n",
      "67 0.004073704641430864\n",
      "68 0.004076307664093726\n",
      "69 0.004132066077562668\n",
      "70 0.004025445409197581\n",
      "71 0.0040618131011074254\n",
      "72 0.004071362689949787\n",
      "73 0.003984212965457146\n",
      "74 0.003875264833103853\n",
      "75 0.003908902036252715\n",
      "76 0.0038872861231252775\n",
      "77 0.003821972841799526\n",
      "78 0.0038512031983684025\n",
      "79 0.003846236100039313\n",
      "80 0.003751649711481009\n",
      "81 0.0037664442409273136\n",
      "82 0.003773702977459492\n",
      "83 0.0037192361550291153\n",
      "84 0.003646426761960364\n",
      "85 0.0036246627562565026\n",
      "86 0.003598086595599792\n",
      "87 0.0036464717962240156\n",
      "88 0.0035808478422528767\n",
      "89 0.003600172117177336\n",
      "90 0.0035299833037569783\n",
      "91 0.003551628977762622\n",
      "92 0.003558996837514594\n",
      "93 0.003590562294764399\n",
      "94 0.0035566518165408567\n",
      "95 0.0035615029408502252\n",
      "96 0.0035421282785694785\n",
      "97 0.0034694639085843804\n",
      "98 0.0034233726297632217\n",
      "99 0.0034111780534872294\n",
      "100 0.003406388022719753\n",
      "101 0.0034064063655979693\n",
      "102 0.003367521152352726\n",
      "103 0.003350504500831075\n",
      "104 0.003353007534673935\n",
      "105 0.0032826385841989714\n",
      "106 0.0033022002343342516\n",
      "107 0.0033435403776661543\n",
      "108 0.0032899835338729977\n",
      "109 0.0032464311887583364\n",
      "110 0.003248881551644711\n",
      "111 0.003193130063054217\n",
      "112 0.0032149466656358205\n",
      "113 0.0032392587394461936\n",
      "114 0.0032659455951086214\n",
      "115 0.003229658837326066\n",
      "116 0.003147215139980619\n",
      "117 0.0031836721145248603\n",
      "118 0.003183538509440975\n",
      "119 0.0031907415055240085\n",
      "120 0.0032005750015479117\n",
      "121 0.003200607046026094\n",
      "122 0.0032393579423734\n",
      "123 0.003210303941552084\n",
      "124 0.003172720239638216\n",
      "125 0.003141186115052208\n",
      "126 0.003158200482973772\n",
      "127 0.0031339709150765005\n",
      "128 0.003068504973974595\n",
      "129 0.003143669308309671\n",
      "130 0.003136199887951885\n",
      "131 0.0031556348578818394\n",
      "132 0.0031360800585464865\n",
      "133 0.0031191412716594646\n",
      "134 0.003075683562272169\n",
      "135 0.00307079047319192\n",
      "136 0.003027064841822913\n",
      "137 0.003017498481887926\n",
      "138 0.003029567875665662\n",
      "139 0.003099891791876863\n",
      "140 0.0030780614136167728\n",
      "141 0.0030708072442845458\n",
      "142 0.003063513393781414\n",
      "143 0.0030296594419000344\n",
      "144 0.003024788477005269\n",
      "145 0.003034516631116424\n",
      "146 0.003032094531400964\n",
      "147 0.0030344449054674483\n",
      "148 0.0030489837168244938\n",
      "149 0.003010221402477309\n",
      "150 0.003034554814580148\n",
      "151 0.0030079282665670393\n",
      "152 0.002964259873354247\n",
      "153 0.0030200823757793316\n",
      "154 0.0030152824247192678\n",
      "155 0.0030055061668515792\n",
      "156 0.002978830017374978\n",
      "157 0.00301038933563913\n",
      "158 0.0030102641531408736\n",
      "159 0.002998135237606725\n",
      "160 0.0029884757396517747\n",
      "161 0.0029690934406780833\n",
      "162 0.0029812177890122804\n",
      "163 0.0029424119381086244\n",
      "164 0.002971525460686242\n",
      "165 0.0029594179575234136\n",
      "166 0.0029762873023612135\n",
      "167 0.002942390599816047\n",
      "168 0.002978722391862143\n",
      "169 0.0029326166255483344\n",
      "170 0.0029060076345207575\n",
      "171 0.0029229701173788536\n",
      "172 0.002939965430607927\n",
      "173 0.0029084908277782207\n",
      "174 0.0029181724499186545\n",
      "175 0.0029277929785171963\n",
      "176 0.0029302181477254274\n",
      "177 0.0029520439587855662\n",
      "178 0.0029545538434283536\n",
      "179 0.0029520683665710257\n",
      "180 0.002985933024637788\n",
      "181 0.0029762666758829104\n",
      "182 0.002930303649052779\n",
      "183 0.002930268535081826\n",
      "184 0.0029132442468675634\n",
      "185 0.0029035832512053217\n",
      "186 0.002903609942590535\n",
      "187 0.002920625096405005\n",
      "188 0.0028964267870931204\n",
      "189 0.0029084877582853386\n",
      "190 0.0028963435693656336\n",
      "191 0.002893942807942751\n",
      "192 0.002910928200879126\n",
      "193 0.002903659544054249\n",
      "194 0.002910911429786389\n",
      "195 0.0029181701663186788\n",
      "196 0.002939944804129624\n",
      "197 0.002949688231626335\n",
      "198 0.0029618721017167227\n",
      "199 0.002977687623673453\n"
     ]
    }
   ],
   "source": [
    "#Gradient Boost Classifier\n",
    "gb_bias=[]\n",
    "for val in np.arange(1,200):\n",
    "    gb=GradientBoostingClassifier(n_estimators=val)\n",
    "    kfold = KFold(shuffle=True,n_splits=3, random_state=0)\n",
    "    cv_results = cross_val_score(gb, X, y, cv=kfold, scoring='roc_auc')\n",
    "    gb_bias.append(1-np.mean(cv_results))\n",
    "    # print(val,1-np.mean(cv_results))"
   ]
  },
  {
   "cell_type": "code",
   "execution_count": 82,
   "metadata": {},
   "outputs": [
    {
     "data": {
      "text/plain": [
       "[<matplotlib.lines.Line2D at 0x23e09dee430>]"
      ]
     },
     "execution_count": 82,
     "metadata": {},
     "output_type": "execute_result"
    },
    {
     "data": {
      "image/png": "[encoded data removed]",
      "text/plain": [
       "<Figure size 640x480 with 1 Axes>"
      ]
     },
     "metadata": {},
     "output_type": "display_data"
    }
   ],
   "source": [
    "x_axis=np.arange(1,200)\n",
    "plt.plot(x_axis,gb_bias)"
   ]
  },
  {
   "attachments": {},
   "cell_type": "markdown",
   "metadata": {},
   "source": [
    "N-estimator taken for gradient booster algorithm is 70"
   ]
  },
  {
   "cell_type": "code",
   "execution_count": 83,
   "metadata": {},
   "outputs": [],
   "source": [
    "#Voting Classifier\n",
    "from sklearn.ensemble import VotingClassifier\n",
    "stacked=VotingClassifier(estimators=[('Logistic',lr),('RandomForest',rf),('GBoost',gb)],voting='soft')"
   ]
  },
  {
   "cell_type": "code",
   "execution_count": 84,
   "metadata": {},
   "outputs": [
    {
     "data": {
      "text/plain": [
       "[['Logistic Regression :', LogisticRegression()],\n",
       " ['Decision Tree Classification :',\n",
       "  DecisionTreeClassifier(criterion='entropy', random_state=0)],\n",
       " ['Random Forest Classification :',\n",
       "  RandomForestClassifier(n_estimators=12, random_state=0)],\n",
       " ['Knn Classifier:', KNeighborsClassifier(n_neighbors=12, weights='distance')],\n",
       " ['Naive Bayes Classifier:', GaussianNB()],\n",
       " ['Bagging Classifier:', BaggingClassifier(n_estimators=85, random_state=0)]]"
      ]
     },
     "execution_count": 84,
     "metadata": {},
     "output_type": "execute_result"
    }
   ],
   "source": [
    "classifiers"
   ]
  },
  {
   "cell_type": "code",
   "execution_count": 99,
   "metadata": {},
   "outputs": [],
   "source": [
    "# stack=[]\n",
    "# for val in np.arange(1,100):\n",
    "#     gb=VotingClassifier(n_estimators=classifiers)\n",
    "#     kfold = KFold(shuffle=True,n_splits=3, random_state=0)\n",
    "#     cv_results = cross_val_score(gb, X, y, cv=kfold, scoring='roc_auc')\n",
    "#     gb_bias.append(1-np.mean(cv_results))\n",
    "#     print(val,1-np.mean(cv_results))"
   ]
  },
  {
   "attachments": {},
   "cell_type": "markdown",
   "metadata": {},
   "source": [
    "COMPARING TWO BEST MODELS"
   ]
  },
  {
   "cell_type": "code",
   "execution_count": null,
   "metadata": {},
   "outputs": [],
   "source": []
  },
  {
   "cell_type": "code",
   "execution_count": 100,
   "metadata": {},
   "outputs": [],
   "source": [
    "KNN=KNeighborsClassifier(n_neighbors= 12, weights= 'distance')\n",
    "GDB=GradientBoostingClassifier(n_estimators=70)"
   ]
  },
  {
   "cell_type": "code",
   "execution_count": 101,
   "metadata": {},
   "outputs": [
    {
     "data": {
      "text/html": [
       "<style>#sk-container-id-3 {color: black;background-color: white;}#sk-container-id-3 pre{padding: 0;}#sk-container-id-3 div.sk-toggleable {background-color: white;}#sk-container-id-3 label.sk-toggleable__label {cursor: pointer;display: block;width: 100%;margin-bottom: 0;padding: 0.3em;box-sizing: border-box;text-align: center;}#sk-container-id-3 label.sk-toggleable__label-arrow:before {content: \"▸\";float: left;margin-right: 0.25em;color: #696969;}#sk-container-id-3 label.sk-toggleable__label-arrow:hover:before {color: black;}#sk-container-id-3 div.sk-estimator:hover label.sk-toggleable__label-arrow:before {color: black;}#sk-container-id-3 div.sk-toggleable__content {max-height: 0;max-width: 0;overflow: hidden;text-align: left;background-color: #f0f8ff;}#sk-container-id-3 div.sk-toggleable__content pre {margin: 0.2em;color: black;border-radius: 0.25em;background-color: #f0f8ff;}#sk-container-id-3 input.sk-toggleable__control:checked~div.sk-toggleable__content {max-height: 200px;max-width: 100%;overflow: auto;}#sk-container-id-3 input.sk-toggleable__control:checked~label.sk-toggleable__label-arrow:before {content: \"▾\";}#sk-container-id-3 div.sk-estimator input.sk-toggleable__control:checked~label.sk-toggleable__label {background-color: #d4ebff;}#sk-container-id-3 div.sk-label input.sk-toggleable__control:checked~label.sk-toggleable__label {background-color: #d4ebff;}#sk-container-id-3 input.sk-hidden--visually {border: 0;clip: rect(1px 1px 1px 1px);clip: rect(1px, 1px, 1px, 1px);height: 1px;margin: -1px;overflow: hidden;padding: 0;position: absolute;width: 1px;}#sk-container-id-3 div.sk-estimator {font-family: monospace;background-color: #f0f8ff;border: 1px dotted black;border-radius: 0.25em;box-sizing: border-box;margin-bottom: 0.5em;}#sk-container-id-3 div.sk-estimator:hover {background-color: #d4ebff;}#sk-container-id-3 div.sk-parallel-item::after {content: \"\";width: 100%;border-bottom: 1px solid gray;flex-grow: 1;}#sk-container-id-3 div.sk-label:hover label.sk-toggleable__label {background-color: #d4ebff;}#sk-container-id-3 div.sk-serial::before {content: \"\";position: absolute;border-left: 1px solid gray;box-sizing: border-box;top: 0;bottom: 0;left: 50%;z-index: 0;}#sk-container-id-3 div.sk-serial {display: flex;flex-direction: column;align-items: center;background-color: white;padding-right: 0.2em;padding-left: 0.2em;position: relative;}#sk-container-id-3 div.sk-item {position: relative;z-index: 1;}#sk-container-id-3 div.sk-parallel {display: flex;align-items: stretch;justify-content: center;background-color: white;position: relative;}#sk-container-id-3 div.sk-item::before, #sk-container-id-3 div.sk-parallel-item::before {content: \"\";position: absolute;border-left: 1px solid gray;box-sizing: border-box;top: 0;bottom: 0;left: 50%;z-index: -1;}#sk-container-id-3 div.sk-parallel-item {display: flex;flex-direction: column;z-index: 1;position: relative;background-color: white;}#sk-container-id-3 div.sk-parallel-item:first-child::after {align-self: flex-end;width: 50%;}#sk-container-id-3 div.sk-parallel-item:last-child::after {align-self: flex-start;width: 50%;}#sk-container-id-3 div.sk-parallel-item:only-child::after {width: 0;}#sk-container-id-3 div.sk-dashed-wrapped {border: 1px dashed gray;margin: 0 0.4em 0.5em 0.4em;box-sizing: border-box;padding-bottom: 0.4em;background-color: white;}#sk-container-id-3 div.sk-label label {font-family: monospace;font-weight: bold;display: inline-block;line-height: 1.2em;}#sk-container-id-3 div.sk-label-container {text-align: center;}#sk-container-id-3 div.sk-container {/* jupyter's `normalize.less` sets `[hidden] { display: none; }` but bootstrap.min.css set `[hidden] { display: none !important; }` so we also need the `!important` here to be able to override the default hidden behavior on the sphinx rendered scikit-learn.org. See: https://github.com/scikit-learn/scikit-learn/issues/21755 */display: inline-block !important;position: relative;}#sk-container-id-3 div.sk-text-repr-fallback {display: none;}</style><div id=\"sk-container-id-3\" class=\"sk-top-container\"><div class=\"sk-text-repr-fallback\"><pre>GradientBoostingClassifier(n_estimators=70)</pre><b>In a Jupyter environment, please rerun this cell to show the HTML representation or trust the notebook. <br />On GitHub, the HTML representation is unable to render, please try loading this page with nbviewer.org.</b></div><div class=\"sk-container\" hidden><div class=\"sk-item\"><div class=\"sk-estimator sk-toggleable\"><input class=\"sk-toggleable__control sk-hidden--visually\" id=\"sk-estimator-id-7\" type=\"checkbox\" checked><label for=\"sk-estimator-id-7\" class=\"sk-toggleable__label sk-toggleable__label-arrow\">GradientBoostingClassifier</label><div class=\"sk-toggleable__content\"><pre>GradientBoostingClassifier(n_estimators=70)</pre></div></div></div></div></div>"
      ],
      "text/plain": [
       "GradientBoostingClassifier(n_estimators=70)"
      ]
     },
     "execution_count": 101,
     "metadata": {},
     "output_type": "execute_result"
    }
   ],
   "source": [
    "KNN.fit(X_train,y_train)\n",
    "GDB.fit(X_train,y_train)"
   ]
  },
  {
   "cell_type": "code",
   "execution_count": 102,
   "metadata": {},
   "outputs": [],
   "source": [
    "KNN_y_pred= KNN.predict(X_test)\n",
    "GDB_y_pred = GDB.predict(X_test)"
   ]
  },
  {
   "cell_type": "code",
   "execution_count": 103,
   "metadata": {},
   "outputs": [
    {
     "data": {
      "text/plain": [
       "array([[0.76186951, 0.23813049],\n",
       "       [1.        , 0.        ],\n",
       "       [0.        , 1.        ],\n",
       "       ...,\n",
       "       [0.06488667, 0.93511333],\n",
       "       [0.84467178, 0.15532822],\n",
       "       [1.        , 0.        ]])"
      ]
     },
     "execution_count": 103,
     "metadata": {},
     "output_type": "execute_result"
    }
   ],
   "source": [
    "d= KNN.predict_proba(X_test)\n",
    "d"
   ]
  },
  {
   "cell_type": "code",
   "execution_count": 104,
   "metadata": {},
   "outputs": [
    {
     "data": {
      "text/plain": [
       "array([[0.34135938, 0.65864062],\n",
       "       [0.99665946, 0.00334054],\n",
       "       [0.00848476, 0.99151524],\n",
       "       ...,\n",
       "       [0.03822678, 0.96177322],\n",
       "       [0.60425131, 0.39574869],\n",
       "       [0.98619839, 0.01380161]])"
      ]
     },
     "execution_count": 104,
     "metadata": {},
     "output_type": "execute_result"
    }
   ],
   "source": [
    "d=GDB.predict_proba(X_test)\n",
    "d"
   ]
  },
  {
   "cell_type": "code",
   "execution_count": 138,
   "metadata": {},
   "outputs": [
    {
     "data": {
      "image/png": "[encoded data removed]",
      "text/plain": [
       "<Figure size 640x480 with 2 Axes>"
      ]
     },
     "metadata": {},
     "output_type": "display_data"
    }
   ],
   "source": [
    "from sklearn.metrics import confusion_matrix\n",
    "from mlxtend.plotting import plot_confusion_matrix \n",
    "\n",
    "binary= np.array(confusion_matrix(y_test,KNN_y_pred))\n",
    "# sns.heatmap(cm,annot=True)\n",
    "class_names=[\"Incomplete\",\"complete\"]\n",
    "fig, ax = plot_confusion_matrix(conf_mat=binary,\n",
    "                                colorbar=True,\n",
    "                                show_absolute=True,\n",
    "                                class_names=class_names)\n",
    "plt.title(\"KNearestNeighbors Classifier\")   \n",
    "fig.show()"
   ]
  },
  {
   "cell_type": "code",
   "execution_count": 146,
   "metadata": {},
   "outputs": [
    {
     "name": "stdout",
     "output_type": "stream",
     "text": [
      "KNeighborsClassifier\n",
      "\n",
      "              precision    recall  f1-score   support\n",
      "\n",
      "           0       0.97      0.95      0.96       334\n",
      "           1       0.95      0.97      0.96       335\n",
      "\n",
      "    accuracy                           0.96       669\n",
      "   macro avg       0.96      0.96      0.96       669\n",
      "weighted avg       0.96      0.96      0.96       669\n",
      "\n"
     ]
    }
   ],
   "source": [
    "from sklearn.metrics import classification_report\n",
    "print(\"KNeighborsClassifier\\n\")\n",
    "print(classification_report(y_test,KNN_y_pred))"
   ]
  },
  {
   "cell_type": "code",
   "execution_count": 137,
   "metadata": {},
   "outputs": [
    {
     "data": {
      "image/png": "[encoded data removed]",
      "text/plain": [
       "<Figure size 640x480 with 2 Axes>"
      ]
     },
     "metadata": {},
     "output_type": "display_data"
    }
   ],
   "source": [
    "binary2= np.array(confusion_matrix(y_test,GDB_y_pred))\n",
    "# sns.heatmap(cm,annot=True)\n",
    "class_names=[\"Incomplete\",\"complete\"]\n",
    "fig, ax = plot_confusion_matrix(conf_mat=binary2,\n",
    "                                colorbar=True,\n",
    "                                show_absolute=True,\n",
    "                                class_names=class_names)\n",
    "plt.title(\"GradientBoostingClassifier\")                           \n",
    "fig.show()"
   ]
  },
  {
   "cell_type": "code",
   "execution_count": 145,
   "metadata": {},
   "outputs": [
    {
     "name": "stdout",
     "output_type": "stream",
     "text": [
      "GradientBoost Classifier:\n",
      "\n",
      "              precision    recall  f1-score   support\n",
      "\n",
      "           0       0.98      0.95      0.96       334\n",
      "           1       0.95      0.98      0.96       335\n",
      "\n",
      "    accuracy                           0.96       669\n",
      "   macro avg       0.96      0.96      0.96       669\n",
      "weighted avg       0.96      0.96      0.96       669\n",
      "\n"
     ]
    }
   ],
   "source": [
    "from sklearn.metrics import classification_report\n",
    "print(\"GradientBoost Classifier:\\n\")\n",
    "print(classification_report(y_test,GDB_y_pred))"
   ]
  },
  {
   "attachments": {},
   "cell_type": "markdown",
   "metadata": {},
   "source": [
    "SAVE THE TWO MODELS"
   ]
  },
  {
   "cell_type": "code",
   "execution_count": 116,
   "metadata": {},
   "outputs": [
    {
     "data": {
      "text/plain": [
       "['GradientboostClassifier.pkl']"
      ]
     },
     "execution_count": 116,
     "metadata": {},
     "output_type": "execute_result"
    }
   ],
   "source": [
    "dump(KNN,\"KNeighborsClassifier.pkl\")\n",
    "dump(GDB,\"GradientboostClassifier.pkl\")"
   ]
  },
  {
   "cell_type": "code",
   "execution_count": 20,
   "metadata": {},
   "outputs": [
    {
     "data": {
      "text/plain": [
       "array([[ 0.15531183,  1.29592917, -1.05219996, -0.57611014,  0.57611014]])"
      ]
     },
     "execution_count": 20,
     "metadata": {},
     "output_type": "execute_result"
    }
   ],
   "source": [
    "test_data = np.array([59,55,4,0.34,0.66]).reshape(1, -1)\n",
    "#load the Scaler for this data\n",
    "scaler=load(\"model_scaler.pkl\")\n",
    "scale_data = scaler.transform(test_data)\n",
    "scale_data"
   ]
  },
  {
   "cell_type": "code",
   "execution_count": 4,
   "metadata": {},
   "outputs": [
    {
     "data": {
      "text/plain": [
       "(1, 5)"
      ]
     },
     "execution_count": 4,
     "metadata": {},
     "output_type": "execute_result"
    }
   ],
   "source": [
    "scale_data.shape"
   ]
  },
  {
   "cell_type": "code",
   "execution_count": 5,
   "metadata": {},
   "outputs": [
    {
     "data": {
      "text/plain": [
       "array([[69.00000714, 50.99999656, 18.00000942,  0.70999997,  0.29000003]])"
      ]
     },
     "execution_count": 5,
     "metadata": {},
     "output_type": "execute_result"
    }
   ],
   "source": [
    "data=np.array([0.531923,1.112152,\t-0.440522,\t0.720838,\t-0.720838]).reshape(1, -1)\n",
    "back=scaler.inverse_transform(data)\n",
    "back"
   ]
  },
  {
   "cell_type": "code",
   "execution_count": 6,
   "metadata": {},
   "outputs": [
    {
     "data": {
      "text/plain": [
       "array([[ 0.531923,  1.112152, -0.440522,  0.720838, -0.720838]])"
      ]
     },
     "execution_count": 6,
     "metadata": {},
     "output_type": "execute_result"
    }
   ],
   "source": [
    "scaler.transform(back)"
   ]
  },
  {
   "cell_type": "code",
   "execution_count": 7,
   "metadata": {},
   "outputs": [],
   "source": [
    "finalclassifier1= load(\"KNeighborsClassifier.pkl\")"
   ]
  },
  {
   "cell_type": "code",
   "execution_count": 8,
   "metadata": {},
   "outputs": [
    {
     "data": {
      "text/plain": [
       "array([0], dtype=int64)"
      ]
     },
     "execution_count": 8,
     "metadata": {},
     "output_type": "execute_result"
    }
   ],
   "source": [
    "finalclassifier1= load(\"KNeighborsClassifier.pkl\")\n",
    "finalclassifier1.predict(scale_data)"
   ]
  },
  {
   "cell_type": "code",
   "execution_count": 11,
   "metadata": {},
   "outputs": [
    {
     "data": {
      "text/plain": [
       "0.0"
      ]
     },
     "execution_count": 11,
     "metadata": {},
     "output_type": "execute_result"
    }
   ],
   "source": [
    "finalclassifier1.predict_proba(scale_data)[0][1]"
   ]
  },
  {
   "cell_type": "code",
   "execution_count": 12,
   "metadata": {},
   "outputs": [
    {
     "data": {
      "text/plain": [
       "array([0], dtype=int64)"
      ]
     },
     "execution_count": 12,
     "metadata": {},
     "output_type": "execute_result"
    }
   ],
   "source": [
    "finalclassifier2=load(\"GradientboostClassifier.pkl\")\n",
    "finalclassifier2.predict(scale_data)"
   ]
  },
  {
   "cell_type": "code",
   "execution_count": 18,
   "metadata": {},
   "outputs": [
    {
     "data": {
      "text/plain": [
       "array([0.99580929, 0.00419071])"
      ]
     },
     "execution_count": 18,
     "metadata": {},
     "output_type": "execute_result"
    }
   ],
   "source": [
    "finalclassifier2.predict_proba(scale_data)[0]"
   ]
  },
  {
   "cell_type": "code",
   "execution_count": 126,
   "metadata": {},
   "outputs": [
    {
     "data": {
      "text/html": [
       "<div>\n",
       "<style scoped>\n",
       "    .dataframe tbody tr th:only-of-type {\n",
       "        vertical-align: middle;\n",
       "    }\n",
       "\n",
       "    .dataframe tbody tr th {\n",
       "        vertical-align: top;\n",
       "    }\n",
       "\n",
       "    .dataframe thead th {\n",
       "        text-align: right;\n",
       "    }\n",
       "</style>\n",
       "<table border=\"1\" class=\"dataframe\">\n",
       "  <thead>\n",
       "    <tr style=\"text-align: right;\">\n",
       "      <th></th>\n",
       "      <th>Target_Days</th>\n",
       "      <th>Actual_Days</th>\n",
       "      <th>Remaining_Days</th>\n",
       "      <th>Actual_Work</th>\n",
       "      <th>Remaining_Work</th>\n",
       "    </tr>\n",
       "  </thead>\n",
       "  <tbody>\n",
       "    <tr>\n",
       "      <th>1045</th>\n",
       "      <td>0.531923</td>\n",
       "      <td>1.112152</td>\n",
       "      <td>-0.440522</td>\n",
       "      <td>0.720838</td>\n",
       "      <td>-0.720838</td>\n",
       "    </tr>\n",
       "    <tr>\n",
       "      <th>1503</th>\n",
       "      <td>-1.012182</td>\n",
       "      <td>-0.082398</td>\n",
       "      <td>-1.095891</td>\n",
       "      <td>-1.417374</td>\n",
       "      <td>1.417374</td>\n",
       "    </tr>\n",
       "    <tr>\n",
       "      <th>834</th>\n",
       "      <td>-1.464115</td>\n",
       "      <td>-1.231005</td>\n",
       "      <td>-0.527905</td>\n",
       "      <td>0.300206</td>\n",
       "      <td>-0.300206</td>\n",
       "    </tr>\n",
       "    <tr>\n",
       "      <th>791</th>\n",
       "      <td>-1.313471</td>\n",
       "      <td>-0.633730</td>\n",
       "      <td>-0.921126</td>\n",
       "      <td>0.966207</td>\n",
       "      <td>-0.966207</td>\n",
       "    </tr>\n",
       "    <tr>\n",
       "      <th>428</th>\n",
       "      <td>-1.125165</td>\n",
       "      <td>-1.139116</td>\n",
       "      <td>-0.222066</td>\n",
       "      <td>-0.751373</td>\n",
       "      <td>0.751373</td>\n",
       "    </tr>\n",
       "    <tr>\n",
       "      <th>...</th>\n",
       "      <td>...</td>\n",
       "      <td>...</td>\n",
       "      <td>...</td>\n",
       "      <td>...</td>\n",
       "      <td>...</td>\n",
       "    </tr>\n",
       "    <tr>\n",
       "      <th>336</th>\n",
       "      <td>-0.710893</td>\n",
       "      <td>-0.909395</td>\n",
       "      <td>0.040081</td>\n",
       "      <td>-1.382321</td>\n",
       "      <td>1.382321</td>\n",
       "    </tr>\n",
       "    <tr>\n",
       "      <th>2011</th>\n",
       "      <td>0.795550</td>\n",
       "      <td>-0.725618</td>\n",
       "      <td>1.612967</td>\n",
       "      <td>-0.050320</td>\n",
       "      <td>0.050320</td>\n",
       "    </tr>\n",
       "    <tr>\n",
       "      <th>434</th>\n",
       "      <td>-0.899199</td>\n",
       "      <td>-1.047228</td>\n",
       "      <td>-0.047301</td>\n",
       "      <td>-0.716321</td>\n",
       "      <td>0.716321</td>\n",
       "    </tr>\n",
       "    <tr>\n",
       "      <th>1910</th>\n",
       "      <td>-0.635571</td>\n",
       "      <td>-0.909395</td>\n",
       "      <td>0.127464</td>\n",
       "      <td>-1.207058</td>\n",
       "      <td>1.207058</td>\n",
       "    </tr>\n",
       "    <tr>\n",
       "      <th>30</th>\n",
       "      <td>-0.108316</td>\n",
       "      <td>-0.587785</td>\n",
       "      <td>0.433303</td>\n",
       "      <td>-1.592637</td>\n",
       "      <td>1.592637</td>\n",
       "    </tr>\n",
       "  </tbody>\n",
       "</table>\n",
       "<p>669 rows × 5 columns</p>\n",
       "</div>"
      ],
      "text/plain": [
       "      Target_Days  Actual_Days  Remaining_Days  Actual_Work  Remaining_Work\n",
       "1045     0.531923     1.112152       -0.440522     0.720838       -0.720838\n",
       "1503    -1.012182    -0.082398       -1.095891    -1.417374        1.417374\n",
       "834     -1.464115    -1.231005       -0.527905     0.300206       -0.300206\n",
       "791     -1.313471    -0.633730       -0.921126     0.966207       -0.966207\n",
       "428     -1.125165    -1.139116       -0.222066    -0.751373        0.751373\n",
       "...           ...          ...             ...          ...             ...\n",
       "336     -0.710893    -0.909395        0.040081    -1.382321        1.382321\n",
       "2011     0.795550    -0.725618        1.612967    -0.050320        0.050320\n",
       "434     -0.899199    -1.047228       -0.047301    -0.716321        0.716321\n",
       "1910    -0.635571    -0.909395        0.127464    -1.207058        1.207058\n",
       "30      -0.108316    -0.587785        0.433303    -1.592637        1.592637\n",
       "\n",
       "[669 rows x 5 columns]"
      ]
     },
     "execution_count": 126,
     "metadata": {},
     "output_type": "execute_result"
    }
   ],
   "source": [
    "X_test"
   ]
  },
  {
   "cell_type": "code",
   "execution_count": 127,
   "metadata": {},
   "outputs": [
    {
     "data": {
      "text/plain": [
       "0"
      ]
     },
     "execution_count": 127,
     "metadata": {},
     "output_type": "execute_result"
    }
   ],
   "source": [
    "y_test[1045]"
   ]
  },
  {
   "attachments": {},
   "cell_type": "markdown",
   "metadata": {},
   "source": [
    "## THE END"
   ]
  },
  {
   "attachments": {},
   "cell_type": "markdown",
   "metadata": {},
   "source": [
    "Deploying an API"
   ]
  },
  {
   "cell_type": "code",
   "execution_count": 9,
   "metadata": {},
   "outputs": [
    {
     "data": {
      "text/plain": [
       "Index(['Target_Days', 'Actual_Days', 'Remaining_Days', 'Actual_Work',\n",
       "       'Remaining_Work', 'Label'],\n",
       "      dtype='object')"
      ]
     },
     "execution_count": 9,
     "metadata": {},
     "output_type": "execute_result"
    }
   ],
   "source": [
    "df.columns"
   ]
  },
  {
   "cell_type": "code",
   "execution_count": 21,
   "metadata": {},
   "outputs": [
    {
     "name": "stdout",
     "output_type": "stream",
     "text": [
      "[[2.  1.  1.  0.8 0.2]]\n",
      "[[-1.99137029 -1.18506055 -1.18327372  1.036312   -1.036312  ]]\n"
     ]
    }
   ],
   "source": [
    "json_data = {\n",
    "                    \"createdAt\":\"2023-02-05T18:20:00\",\n",
    "                    \"updatedAt\":\"2023-02-06T18:20:00\",\n",
    "                    \"progress\":\"80\",\n",
    "                    \"targetDate\":\"2023-02-07T23:59:59\"\n",
    "                    }\n",
    "\n",
    "cr_date= json_data[\"createdAt\"].split(\"T\")[0]\n",
    "cr_date= dt.strptime(cr_date,\"%Y-%m-%d\")\n",
    "\n",
    "\n",
    "up_date= json_data[\"updatedAt\"].split(\"T\")[0]\n",
    "up_date= dt.strptime(up_date,\"%Y-%m-%d\")\n",
    "\n",
    "act_work = json_data[\"progress\"]\n",
    "\n",
    "trg_date= json_data[\"targetDate\"].split(\"T\")[0]\n",
    "trg_date= dt.strptime(trg_date,\"%Y-%m-%d\")\n",
    "\n",
    "Target_Days = trg_date - cr_date\n",
    "Target_Days = Target_Days.days #1st Attribute\n",
    "\n",
    "Actual_Days =  up_date - cr_date\n",
    "Actual_Days= Actual_Days.days#2nd Attribute\n",
    "\n",
    "Remaining_Days = Target_Days - Actual_Days #3rd Attribute\n",
    "\n",
    "Actual_Work = int(json_data[\"progress\"])/100  #4th Attribute\n",
    "Remaining_Work = 1 - Actual_Work #5th Attribute\n",
    "\n",
    "#typecast into array\n",
    "test_data = np.array([Target_Days, Actual_Days, Remaining_Days, Actual_Work, Remaining_Work]).reshape(1,-1)\n",
    "print(test_data)\n",
    "\n",
    "scale_data = scaler.transform(test_data)\n",
    "print(scale_data)"
   ]
  },
  {
   "cell_type": "code",
   "execution_count": 17,
   "metadata": {},
   "outputs": [
    {
     "data": {
      "text/plain": [
       "array([[-1.99137029, -1.18506055, -1.18327372,  1.036312  , -1.036312  ]])"
      ]
     },
     "execution_count": 17,
     "metadata": {},
     "output_type": "execute_result"
    }
   ],
   "source": [
    "scale_data"
   ]
  },
  {
   "cell_type": "code",
   "execution_count": 18,
   "metadata": {},
   "outputs": [],
   "source": [
    "from datetime import datetime as dt\n",
    "from dateutil import relativedelta as rd\n",
    "import pickle\n",
    "scaler=pickle.load(open(\"model_scaler.pkl\",\"rb\"))\n",
    "json_data={\n",
    "\"createdAt\":\"2023-02-05T18:20:00\",\n",
    "\"updatedAt\":\"2023-02-06T18:20:00\",\n",
    "\"progress\":\"80\",\n",
    "\"targetDate\":\"2023-02-07T23:59:59\"\n",
    "}"
   ]
  },
  {
   "cell_type": "code",
   "execution_count": 17,
   "metadata": {},
   "outputs": [],
   "source": [
    "cr_date= json_data[\"createdAt\"].split(\"T\")[0]\n",
    "cr_date= dt.strptime(cr_date,\"%Y-%m-%d\")\n",
    "\n",
    "\n",
    "up_date= json_data[\"updatedAt\"].split(\"T\")[0]\n",
    "up_date= dt.strptime(up_date,\"%Y-%m-%d\")\n",
    "\n",
    "act_work = int(json_data[\"progress\"])\n",
    "\n",
    "trg_date= json_data[\"targetDate\"].split(\"T\")[0]\n",
    "trg_date= dt.strptime(trg_date,\"%Y-%m-%d\")"
   ]
  },
  {
   "cell_type": "code",
   "execution_count": 34,
   "metadata": {},
   "outputs": [
    {
     "data": {
      "text/plain": [
       "2"
      ]
     },
     "execution_count": 34,
     "metadata": {},
     "output_type": "execute_result"
    }
   ],
   "source": [
    "Target_Days = trg_date - cr_date\n",
    "Target_Days = Target_Days.days #1st Attribute\n",
    "Target_Days\n"
   ]
  },
  {
   "cell_type": "code",
   "execution_count": 37,
   "metadata": {},
   "outputs": [
    {
     "data": {
      "text/plain": [
       "1"
      ]
     },
     "execution_count": 37,
     "metadata": {},
     "output_type": "execute_result"
    }
   ],
   "source": [
    "Actual_Days =  up_date - cr_date\n",
    "Actual_Days= Actual_Days.days#2nd Attribute\n",
    "Actual_Days"
   ]
  },
  {
   "cell_type": "code",
   "execution_count": 35,
   "metadata": {},
   "outputs": [
    {
     "data": {
      "text/plain": [
       "1"
      ]
     },
     "execution_count": 35,
     "metadata": {},
     "output_type": "execute_result"
    }
   ],
   "source": [
    "Remaining_Days = Target_Days - Actual_Days #3rd Attribute\n",
    "Remaining_Days"
   ]
  },
  {
   "cell_type": "code",
   "execution_count": 38,
   "metadata": {},
   "outputs": [],
   "source": [
    "Actual_Work = int(json_data[\"progress\"])/100  #4th Attribute\n",
    "Remaining_Work = 1 - Actual_Work #5th Attribute\n"
   ]
  },
  {
   "cell_type": "code",
   "execution_count": 39,
   "metadata": {},
   "outputs": [
    {
     "data": {
      "text/plain": [
       "0.8"
      ]
     },
     "execution_count": 39,
     "metadata": {},
     "output_type": "execute_result"
    }
   ],
   "source": []
  },
  {
   "cell_type": "code",
   "execution_count": 16,
   "metadata": {},
   "outputs": [
    {
     "data": {
      "text/plain": [
       "'05-02-2023'"
      ]
     },
     "execution_count": 16,
     "metadata": {},
     "output_type": "execute_result"
    }
   ],
   "source": [
    "i=\"2023-02-05T18:20:00\"\n",
    "i=i.split(\"T\")[0]\n",
    "i = dt.strptime(i,\"%Y-%m-%d\")\n",
    "i"
   ]
  },
  {
   "cell_type": "code",
   "execution_count": 26,
   "metadata": {},
   "outputs": [
    {
     "data": {
      "text/plain": [
       "relativedelta(days=+2)"
      ]
     },
     "execution_count": 26,
     "metadata": {},
     "output_type": "execute_result"
    }
   ],
   "source": [
    "diff= rd.relativedelta(trg_date,cr_date)\n",
    "diff"
   ]
  },
  {
   "cell_type": "code",
   "execution_count": null,
   "metadata": {},
   "outputs": [],
   "source": []
  }
 ],
 "metadata": {
  "kernelspec": {
   "display_name": "ML",
   "language": "python",
   "name": "python3"
  },
  "language_info": {
   "codemirror_mode": {
    "name": "ipython",
    "version": 3
   },
   "file_extension": ".py",
   "mimetype": "text/x-python",
   "name": "python",
   "nbconvert_exporter": "python",
   "pygments_lexer": "ipython3",
   "version": "3.9.13"
  },
  "orig_nbformat": 4,
  "vscode": {
   "interpreter": {
    "hash": "1873bbc21ff52ab7474ad301e04d4c89731e764337aee8cacb0296e5fc2752d9"
   }
  }
 },
 "nbformat": 4,
 "nbformat_minor": 2
}
